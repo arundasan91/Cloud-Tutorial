{
 "cells": [
  {
   "cell_type": "markdown",
   "metadata": {},
   "source": [
    "<hr style=\"height:3px;border:none;color:#333;background-color:#333;\" />\n",
    "<img style=\" float:right; display:inline\" src=\"http://opencloud.utsa.edu/wp-content/themes/utsa-oci/images/logo.png\"/>\n",
    "\n",
    "### **University of Texas at San Antonio** \n",
    "<br/>\n",
    "<br/>\n",
    "<span style=\"color:#000; font-family: 'Bebas Neue'; font-size: 2.5em;\"> **Open Cloud Institute** </span>\n",
    "\n",
    "<hr style=\"height:3px;border:none;color:#333;background-color:#333;\" />"
   ]
  },
  {
   "cell_type": "markdown",
   "metadata": {},
   "source": [
    "### Docker\n",
    "\n",
    "<br/>\n",
    "<span style=\"color:#000; font-family: 'Bebas Neue'; font-size: 1.5em;\"> **Paul Rad, Ph.D.** </span>  \n",
    "\n",
    "\n",
    "<span style=\"color:#000; font-family: 'Bebas Neue'; font-size: 1.5em;\"> **Pengpeng Zhou, Research Assistant** </span>\n",
    "\n",
    "<span style=\"color:#000; font-family: 'Bebas Neue'; font-size: 1.4em;\"> *Open Cloud Institute, University of Texas at San Antonio, San Antonio, Texas, USA* </span>  \n",
    "<span style=\"color:#000; font-family: 'Bebas Neue'; font-size: 1.4em;\"> {pengpeng.zhou, paul.rad}@utsa.edu </span>  \n",
    "\n",
    "<hr style=\"height:3px;border:none;color:#333;background-color:#333;\" />"
   ]
  },
  {
   "cell_type": "markdown",
   "metadata": {},
   "source": [
    "# Lesson 1: Introduction"
   ]
  },
  {
   "cell_type": "markdown",
   "metadata": {},
   "source": [
    "## What is Docker:\n",
    "\n",
    "Docker is the world's leading software containerization platform.\n",
    "\n",
    "Docker containers wrap a piece of software in a complete filesystem that contains everything needed to run: code, runtime, system tools, system libraries – anything that can be installed on a server. This guarantees that the software will always run the same, regardless of its environment.\n",
    "\n",
    "And there are three most stunning advantages about Docker:\n",
    "\n",
    "* Lightweight\n",
    " * Containers running on a single machine share the same operating system kernel; they start instantly and use less RAM. Images are constructed from layered filesystems and share common files, making disk usage and image downloads much more efficient.\n",
    "\n",
    "* Open\n",
    " * Docker containers are based on open standards, enabling containers to run on all major Linux distributions and on Microsoft Windows -- and on top of any infrastructure.\n",
    "\n",
    "* Secure by default\n",
    " * Containers isolate applications from one another and the underlying infrastructure, while providing an added layer of protection for the application."
   ]
  },
  {
   "cell_type": "markdown",
   "metadata": {},
   "source": [
    "Next, let’s start with running the first container."
   ]
  },
  {
   "cell_type": "code",
   "execution_count": 12,
   "metadata": {
    "collapsed": false
   },
   "outputs": [
    {
     "name": "stdout",
     "output_type": "stream",
     "text": [
      "Hello world\r\n"
     ]
    }
   ],
   "source": [
    "# Docker creates a new Ubuntu environment and executes the **/bin/echo** command inside it and then prints out:\n",
    "#Hello World\n",
    "\n",
    "!docker run ubuntu /bin/echo 'Hello world' \n"
   ]
  },
  {
   "cell_type": "code",
   "execution_count": 15,
   "metadata": {
    "collapsed": false
   },
   "outputs": [
    {
     "name": "stdout",
     "output_type": "stream",
     "text": [
      "CONTAINER ID        IMAGE               COMMAND                  CREATED             STATUS                         PORTS                       NAMES\r\n",
      "3b1e93cf679a        ubuntu              \"/bin/echo 'Hello wor\"   5 minutes ago       Exited (0) 5 minutes ago                                   ecstatic_bose\r\n",
      "b65c4d978ec3        ubuntu              \"/bin/bash\"              7 minutes ago       Up 7 minutes                                               angry_boyd\r\n",
      "39803282dc8b        ubuntu              \"/bin/bash\"              7 minutes ago       Exited (0) 7 minutes ago                                   desperate_wing\r\n",
      "5f2a8e6c9d46        ubuntu              \"/bin/bash\"              8 minutes ago       Up 8 minutes                                               ecstatic_hypatia\r\n",
      "b3f66236cbe1        ubuntu              \"/bin/echo 'Hello wor\"   10 minutes ago      Exited (0) 10 minutes ago                                  dreamy_hawking\r\n",
      "f869f2cebcbd        ubuntu              \"/bin/echo 'Hello wor\"   11 minutes ago      Exited (0) 11 minutes ago                                  suspicious_northcutt\r\n",
      "874b51f53196        ubuntu              \"/bin/echo 'Hello wor\"   13 minutes ago      Exited (0) 13 minutes ago                                  tiny_payne\r\n",
      "1d40246ceeab        ubuntu              \"/bin/echo 'Hello wor\"   49 minutes ago      Exited (0) 49 minutes ago                                  lonely_noether\r\n",
      "02feba49af7f        ubuntu              \"/bin/echo 'Hello wor\"   About an hour ago   Exited (0) About an hour ago                               silly_kowalevski\r\n",
      "afd9078a563c        ubuntu              \"/bin/bash\"              About an hour ago   Exited (0) About an hour ago                               compassionate_banach\r\n",
      "4f972695a1e6        ubuntu              \"/bin/echo 'Hello wor\"   About an hour ago   Exited (0) About an hour ago                               tender_tesla7\r\n",
      "6b6a48c70a81        ubuntu              \"/bin/echo 'Hello wor\"   About an hour ago   Exited (0) About an hour ago                               thirsty_turing\r\n",
      "1e197839bb45        training/webapp     \"python app.py\"          16 hours ago        Up 16 hours                    127.0.0.1:32769->5000/tcp   web\r\n",
      "e7d860de775c        ubuntu              \"/bin/echo 'Hello wor\"   28 hours ago        Exited (0) 28 hours ago                                    distracted_wescoff\r\n",
      "2ad3d17b7e09        ubuntu              \"/bin/echo 'Hello wor\"   28 hours ago        Exited (0) 28 hours ago                                    kickass_darwin\r\n",
      "cfa226252f6e        ubuntu              \"/bin/bash\"              28 hours ago        Exited (0) About an hour ago                               mad_northcutt\r\n",
      "b08e76181fdf        training/sinatra    \"/bin/bash\"              28 hours ago        Exited (0) 28 hours ago                                    agitated_bell\r\n",
      "97a2a1726dd0        centos              \"/bin/bash\"              28 hours ago        Up 28 hours                                                distracted_noyce\r\n",
      "24c4a024b7cf        ubuntu:14.04        \"/bin/bash\"              28 hours ago        Exited (0) 28 hours ago                                    pensive_keller\r\n",
      "b47a09a1aad4        ubuntu:14.04        \"/bin/bash\"              28 hours ago        Up 28 hours                                                elegant_mestorf\r\n",
      "6809c1eb1734        training/webapp     \"python app.py\"          29 hours ago        Up 29 hours                    127.0.0.1:80->5000/tcp      elegant_carson\r\n",
      "c3bc5c07e2a6        training/webapp     \"python app.py\"          29 hours ago        Up 29 hours                    127.0.0.1:32768->5000/tcp   agitated_babbage\r\n",
      "fdc22e69be58        ubuntu              \"/bin/bash\"              29 hours ago        Exited (0) 29 hours ago                                    big_tesla\r\n",
      "4a48f6134b63        ubuntu              \"/bin/echo 'Hello wor\"   29 hours ago        Exited (0) 29 hours ago                                    focused_wilson\r\n",
      "54b90b7ab473        ubuntu              \"/bin/sh -c 'while tr\"   29 hours ago        Exited (137) 29 hours ago                                  jolly_newton\r\n",
      "c39fb1725d80        ubuntu              \"/bin/bash\"              30 hours ago        Exited (0) 29 hours ago                                    grave_banach\r\n",
      "6f88e62d611e        busybox             \"cat\"                    30 hours ago        Exited (0) 30 hours ago                                    zen_goldberg4\r\n",
      "6adb167f68f4        ubuntu              \"/bin/bash\"              30 hours ago        Exited (0) 30 hours ago                                    condescending_snyder\r\n",
      "f1c7ee262a1b        ubuntu              \"/bin/echo 'Hello wor\"   40 hours ago        Exited (0) 40 hours ago                                    tender_einstein\r\n",
      "71ca0ad0fb75        hello-world         \"/hello\"                 41 hours ago        Exited (0) 41 hours ago                                    clever_bartik\r\n",
      "1711984d4ab1        ubuntu              \"/bin/bash\"              41 hours ago        Exited (0) 41 hours ago                                    kickass_mcnulty\r\n",
      "0111ad537c8a        ubuntu              \"/bin/bash\"              41 hours ago        Exited (0) 41 hours ago                                    angry_colden\r\n",
      "5e85da86b987        ubuntu              \"/bin/bash\"              41 hours ago        Exited (0) 41 hours ago                                    stoic_mahavira\r\n",
      "78c901834e90        ubuntu              \"/bin/bash\"              41 hours ago        Exited (0) 41 hours ago                                    fervent_ardinghelli\r\n",
      "7fc5d04bff72        ubuntu              \"/bin/bash\"              41 hours ago        Exited (0) 41 hours ago                                    distracted_borg\r\n",
      "c4f2ae6537fe        ubuntu              \"/bin/echo 'Hello wor\"   41 hours ago        Exited (0) 41 hours ago                                    stoic_allen\r\n",
      "cafa36c64a45        ubuntu              \"/bin/sh -c 'while tr\"   41 hours ago        Exited (0) 41 hours ago                                    silly_bassi\r\n",
      "4059af43f154        ubuntu              \"/bin/bash\"              41 hours ago        Exited (0) 41 hours ago                                    fervent_leakey\r\n",
      "826f43137f04        ubuntu              \"/bin/echo 'Hello wor\"   41 hours ago        Exited (0) 41 hours ago                                    sleepy_spence\r\n",
      "74493134e697        ubuntu              \"/bin/sh -c 'while tr\"   3 days ago          Exited (0) 41 hours ago                                    silly_ptolemy\r\n",
      "6266acbb9c29        ubuntu              \"/bin/sh -c 'while tr\"   3 days ago          Exited (0) 41 hours ago                                    grave_ardinghelli\r\n",
      "818cba07f67b        ubuntu              \"/bin/bash\"              3 days ago          Exited (0) 41 hours ago                                    tender_jones\r\n",
      "5d9ebfcfca6f        ubuntu              \"/bin/echo 'Hello wor\"   3 days ago          Exited (0) 3 days ago                                      sick_knuth\r\n",
      "2f9f9e901742        ubuntu              \"/bin/echo 'Hello wor\"   3 days ago          Exited (0) 3 days ago                                      gigantic_kare\r\n",
      "5aa04ad052e8        ubuntu              \"/bin/sh -c 'while tr\"   3 days ago          Exited (0) 41 hours ago                                    hopeful_bardeen\r\n",
      "005f6e102ab9        ubuntu              \"/bin/bash\"              3 days ago          Exited (0) 41 hours ago                                    nauseous_golick\r\n",
      "1f94d8fcf2d6        ubuntu              \"/bin/echo 'Hello wor\"   3 days ago          Exited (0) 3 days ago                                      tiny_wilson\r\n",
      "a211e3d356c0        ubuntu              \"/bin/bash\"              3 days ago          Exited (0) 41 hours ago                                    networktest\r\n",
      "b369c33edd33        ubuntu              \"/bin/bash\"              3 days ago          Exited (0) 41 hours ago                                    hopeful_pasteur\r\n",
      "984ca6c9e88b        ubuntu              \"/bin/echo 'Hello wor\"   3 days ago          Exited (0) 3 days ago                                      big_curran\r\n",
      "bdc85cafa9b1        training/webapp     \"python app.py\"          3 days ago          Exited (0) 41 hours ago                                    awesome_mestorf\r\n",
      "7ee305f4372a        training/webapp     \"python app.py\"          3 days ago          Exited (0) 41 hours ago                                    angry_lamport\r\n",
      "c78f2839b82c        ubuntu              \"/bin/bash\"              3 days ago          Exited (0) 41 hours ago                                    grave_snyder\r\n",
      "c5ec73cfca0d        ubuntu              \"/bin/bash\"              3 days ago          Exited (0) 41 hours ago                                    clever_pasteur\r\n",
      "77dc91198fa8        hello-world         \"/hello\"                 3 days ago          Exited (0) 3 days ago                                      modest_perlman\r\n"
     ]
    }
   ],
   "source": [
    "#docker run -t -i ubuntu /bin/bash\n",
    "!docker ps -a"
   ]
  },
  {
   "cell_type": "markdown",
   "metadata": {},
   "source": [
    "Congradulations! You just launched your first container! But how exactly does a container work?\n",
    "\n",
    "\n",
    "## How does a container work?\n",
    "\n",
    "A container uses the host machine’s Linux kernel, and consists of any extra files you add when the image is created, along with metadata associated with the container at creation or when the container is started. Each container is built from an image. The image defines the container’s contents, which process to run when the container is launched, and a variety of other configuration details. The Docker image is read-only. When Docker runs a container from an image, it adds a read-write layer on top of the image (using a UnionFS as we saw earlier) in which your application runs.\n",
    "\n",
    "What happens when you run a container?\n",
    "\n",
    "When you use the docker run CLI command or the equivalent API, the Docker Engine client instructs the Docker daemon to run a container. This example tells the Docker daemon to run a container using the ubuntu Docker image, to remain in the foreground in interactive mode (-i), and to run the /bin/bash command.\n",
    "\n",
    "**NOTE: run the following command in the terminal displayed below.**\n",
    "<div class=\"alert alert-warning\" role=\"alert\" style=\"margin: 1px\">\n",
    "<p>$ docker run -i -t ubuntu /bin/bash</p>\n",
    "</div>\n",
    "\n",
    "When you run this command, Docker Engine does the following:\n",
    "\n",
    "1. ** Pulls the ubuntu image**: Docker Engine checks for the presence of the ubuntu image. If the image already exists locally, Docker Engine uses it for the new container. Otherwise, then Docker Engine pulls it from Docker Hub.\n",
    "\n",
    "2. **Creates a new container**: Docker uses the image to create a container.\n",
    "\n",
    "3. **Allocates a filesystem and mounts a read-write layer**: The container is created in the file system and a read-write layer is added to the image.\n",
    "\n",
    "4. **Allocates a network / bridge interface**: Creates a network interface that allows the Docker container to talk to the local host.\n",
    "\n",
    "5. **Sets up an IP address**: Finds and attaches an available IP address from a pool.\n",
    "\n",
    "6. **Executes a process that you specify**: Executes the /bin/bash executable.\n",
    "\n",
    "7. **Captures and provides application output**: Connects and logs standard input, outputs and errors for you to see how your application is running, because you requested interactive mode.\n",
    "\n",
    "Your container is now running. You can manage and interact with it, use the services and applications it provides, and eventually stop and remove it."
   ]
  },
  {
   "cell_type": "code",
   "execution_count": 2,
   "metadata": {
    "collapsed": false
   },
   "outputs": [
    {
     "data": {
      "text/html": [
       "\n",
       "        <iframe\n",
       "            width=\"800\"\n",
       "            height=\"500\"\n",
       "            src=\"http://129.114.110.83:8888/terminals/1\"\n",
       "            frameborder=\"0\"\n",
       "            allowfullscreen\n",
       "        ></iframe>\n",
       "        "
      ],
      "text/plain": [
       "<IPython.lib.display.IFrame at 0x7ffb85706410>"
      ]
     },
     "execution_count": 2,
     "metadata": {},
     "output_type": "execute_result"
    }
   ],
   "source": [
    "from IPython.display import IFrame\n",
    "IFrame (\"http://129.114.110.83:8888/terminals/1\", width = 800, height=500)"
   ]
  },
  {
   "cell_type": "code",
   "execution_count": null,
   "metadata": {
    "collapsed": true
   },
   "outputs": [],
   "source": []
  }
 ],
 "metadata": {
  "anaconda-cloud": {},
  "kernelspec": {
   "display_name": "Python 2",
   "language": "python",
   "name": "python2"
  },
  "language_info": {
   "codemirror_mode": {
    "name": "ipython",
    "version": 2
   },
   "file_extension": ".py",
   "mimetype": "text/x-python",
   "name": "python",
   "nbconvert_exporter": "python",
   "pygments_lexer": "ipython2",
   "version": "2.7.6"
  }
 },
 "nbformat": 4,
 "nbformat_minor": 1
}
