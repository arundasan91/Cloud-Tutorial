{
 "cells": [
  {
   "cell_type": "markdown",
   "metadata": {},
   "source": [
    "<hr style=\"height:3px;border:none;color:#333;background-color:#333;\" />\n",
    "<img style=\" float:right; display:inline\" src=\"http://opencloud.utsa.edu/wp-content/themes/utsa-oci/images/logo.png\"/>\n",
    "\n",
    "### **University of Texas at San Antonio** \n",
    "<br/>\n",
    "<br/>\n",
    "<span style=\"color:#000; font-family: 'Bebas Neue'; font-size: 2.5em;\"> **Open Cloud Institute** </span>\n",
    "\n",
    "<hr style=\"height:3px;border:none;color:#333;background-color:#333;\" />"
   ]
  },
  {
   "cell_type": "markdown",
   "metadata": {},
   "source": [
    "### Lesson 1: Docker\n",
    "\n",
    "<br/>\n",
    "\n",
    "\n",
    "<span style=\"color:#000; font-family: 'Bebas Neue'; font-size: 1.5em;\"> **Pengpeng Zhou, Research Assistant** </span>\n",
    "\n",
    "<span style=\"color:#000; font-family: 'Bebas Neue'; font-size: 1.4em;\"> *Open Cloud Institute, University of Texas at San Antonio, San Antonio, Texas, USA* </span>  \n",
    "\n",
    "<hr style=\"height:3px;border:none;color:#333;background-color:#333;\" />"
   ]
  },
  {
   "cell_type": "markdown",
   "metadata": {},
   "source": [
    "## What is Docker:\n",
    "\n",
    "Docker is the world's leading software containerization platform.\n",
    "\n",
    "Docker containers wrap a piece of software in a complete filesystem that contains everything needed to run: code, runtime, system tools, system libraries – anything that can be installed on a server. This guarantees that the software will always run the same, regardless of its environment.\n",
    "\n",
    "And there are three most stunning advantages about Docker:\n",
    "\n",
    "* Lightweight\n",
    " * Containers running on a single machine share the same operating system kernel; they start instantly and use less RAM. Images are constructed from layered filesystems and share common files, making disk usage and image downloads much more efficient.\n",
    "\n",
    "* Open\n",
    " * Docker containers are based on open standards, enabling containers to run on all major Linux distributions and on Microsoft Windows -- and on top of any infrastructure.\n",
    "\n",
    "* Secure by default\n",
    " * Containers isolate applications from one another and the underlying infrastructure, while providing an added layer of protection for the application."
   ]
  },
  {
   "cell_type": "markdown",
   "metadata": {},
   "source": [
    "Next, let’s start with running the first container."
   ]
  },
  {
   "cell_type": "code",
   "execution_count": null,
   "metadata": {
    "collapsed": false
   },
   "outputs": [],
   "source": [
    "# Docker creates a new Ubuntu environment and executes the **/bin/echo** command inside it and then prints out:\n",
    "#Hello World\n",
    "\n",
    "!docker run ubuntu /bin/echo 'Hello world' "
   ]
  },
  {
   "cell_type": "code",
   "execution_count": null,
   "metadata": {
    "collapsed": false
   },
   "outputs": [],
   "source": [
    "#docker run -t -i ubuntu /bin/bash\n",
    "\n",
    "**NOTE: docker ps command will only show running containers [-a] option will show all containers**\n",
    "\n",
    "!docker ps -a"
   ]
  },
  {
   "cell_type": "markdown",
   "metadata": {},
   "source": [
    "Congradulations! You just launched your first container! But how exactly does a container work?\n",
    "\n",
    "\n",
    "## How does a container work?\n",
    "\n",
    "A container uses the host machine’s Linux kernel, and consists of any extra files you add when the image is created, along with metadata associated with the container at creation or when the container is started. Each container is built from an image. The image defines the container’s contents, which process to run when the container is launched, and a variety of other configuration details. The Docker image is read-only. When Docker runs a container from an image, it adds a read-write layer on top of the image (using a UnionFS as we saw earlier) in which your application runs.\n",
    "\n",
    "What happens when you run a container?\n",
    "\n",
    "When you use the docker run CLI command or the equivalent API, the Docker Engine client instructs the Docker daemon to run a container. This example tells the Docker daemon to run a container using the ubuntu Docker image, to remain in the foreground in interactive mode (-i), and to run the /bin/bash command.\n",
    "\n",
    "**NOTE: run the following command in the terminal displayed below.**\n",
    "<div class=\"alert alert-warning\" role=\"alert\" style=\"margin: 1px\">\n",
    "<p>$ docker run -i -t ubuntu /bin/bash</p>\n",
    "</div>\n",
    "\n",
    "When you run this command, Docker Engine does the following:\n",
    "\n",
    "1. ** Pulls the ubuntu image**: Docker Engine checks for the presence of the ubuntu image. If the image already exists locally, Docker Engine uses it for the new container. Otherwise, then Docker Engine pulls it from Docker Hub.\n",
    "\n",
    "2. **Creates a new container**: Docker uses the image to create a container.\n",
    "\n",
    "3. **Allocates a filesystem and mounts a read-write layer**: The container is created in the file system and a read-write layer is added to the image.\n",
    "\n",
    "4. **Allocates a network / bridge interface**: Creates a network interface that allows the Docker container to talk to the local host.\n",
    "\n",
    "5. **Sets up an IP address**: Finds and attaches an available IP address from a pool.\n",
    "\n",
    "6. **Executes a process that you specify**: Executes the /bin/bash executable.\n",
    "\n",
    "7. **Captures and provides application output**: Connects and logs standard input, outputs and errors for you to see how your application is running, because you requested interactive mode.\n",
    "\n",
    "Your container is now running. You can manage and interact with it, use the services and applications it provides, and eventually stop and remove it."
   ]
  },
  {
   "cell_type": "code",
   "execution_count": null,
   "metadata": {
    "collapsed": false
   },
   "outputs": [],
   "source": [
    "from IPython.display import IFrame\n",
    "IFrame (\"http://129.114.110.233:8888/terminals/1\", width = 800, height=500)"
   ]
  },
  {
   "cell_type": "code",
   "execution_count": null,
   "metadata": {
    "collapsed": false
   },
   "outputs": [],
   "source": [
    "# In the end, you may want to stop the container if you are not planing to use.\n",
    "\n",
    "!docker ps -a"
   ]
  },
  {
   "cell_type": "code",
   "execution_count": null,
   "metadata": {
    "collapsed": false
   },
   "outputs": [],
   "source": [
    "!docker stop \n",
    "!docker rm "
   ]
  },
  {
   "cell_type": "markdown",
   "metadata": {},
   "source": [
    "The command line should look like this\n",
    "<div class=\"alert alert-warning\" role=\"alert\" style=\"margin: 1px\">\n",
    "<p>docker stop nostalgic_morse<br>\n",
    "docker rm nostalgic_morse\n",
    "</p>\n",
    "</div>"
   ]
  }
 ],
 "metadata": {
  "anaconda-cloud": {},
  "kernelspec": {
   "display_name": "Python 2",
   "language": "python",
   "name": "python2"
  },
  "language_info": {
   "codemirror_mode": {
    "name": "ipython",
    "version": 2
   },
   "file_extension": ".py",
   "mimetype": "text/x-python",
   "name": "python",
   "nbconvert_exporter": "python",
   "pygments_lexer": "ipython2",
   "version": "2.7.6"
  }
 },
 "nbformat": 4,
 "nbformat_minor": 1
}
