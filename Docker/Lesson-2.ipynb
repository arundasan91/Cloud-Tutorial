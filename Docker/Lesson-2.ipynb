{
 "cells": [
  {
   "cell_type": "markdown",
   "metadata": {
    "collapsed": true
   },
   "source": [
    "<hr style=\"height:3px;border:none;color:#333;background-color:#333;\" />\n",
    "<img style=\" float:right; display:inline\" src=\"http://opencloud.utsa.edu/wp-content/themes/utsa-oci/images/logo.png\"/>\n",
    "\n",
    "### **University of Texas at San Antonio** \n",
    "<br/>\n",
    "<br/>\n",
    "<span style=\"color:#000; font-family: 'Bebas Neue'; font-size: 2.5em;\"> **Open Cloud Institute** </span>\n",
    "\n",
    "<hr style=\"height:3px;border:none;color:#333;background-color:#333;\" />"
   ]
  },
  {
   "cell_type": "markdown",
   "metadata": {},
   "source": [
    "### Lesson 2: Docker\n",
    "\n",
    "<br/>\n",
    "<span style=\"color:#000; font-family: 'Bebas Neue'; font-size: 1.5em;\"> **Paul Rad, Ph.D.** </span>  \n",
    "\n",
    "\n",
    "<span style=\"color:#000; font-family: 'Bebas Neue'; font-size: 1.5em;\"> **Pengpeng Zhou, Research Assistant** </span>\n",
    "\n",
    "<span style=\"color:#000; font-family: 'Bebas Neue'; font-size: 1.4em;\"> *Open Cloud Institute, University of Texas at San Antonio, San Antonio, Texas, USA* </span>  \n",
    "<span style=\"color:#000; font-family: 'Bebas Neue'; font-size: 1.4em;\"> {Pengpeng.Zhou, Paul.Rad}@utsa.edu </span>  \n",
    "\n",
    "<hr style=\"height:3px;border:none;color:#333;background-color:#333;\" />"
   ]
  },
  {
   "cell_type": "markdown",
   "metadata": {},
   "source": [
    "## Play around with images\n",
    "\n",
    "As we practiced in the last less, we know that Docker images are the basis of containers. Each time you’ve used docker run you told it which image you wanted. \n",
    "\n",
    "In this lesson, we will discover of how these images are used by containers. And a little exercise of building an image using Dockerfile and play around with it.\n",
    "\n",
    "## Images and layers:\n",
    "\n",
    "Each Docker image references a list of read-only layers that represent filesystem differences. Layers are stacked on top of each other to form a base for a container’s root filesystem. The diagram below shows the Ubuntu 15.04 image comprising 4 stacked image layers.\n",
    "\n",
    "<img  src=\"https://docs.docker.com/engine/userguide/storagedriver/images/image-layers.jpg\"/>\n",
    "\n",
    "The Docker storage driver is responsible for stacking these layers and providing a single unified view.\n",
    "\n",
    "When you create a new container, you add a new, thin, writable layer on top of the underlying stack. This layer is often called the “container layer”. All changes made to the running container - such as writing new files, modifying existing files, and deleting files - are written to this thin writable container layer. The diagram below shows a container based on the Ubuntu 15.04 image.\n",
    "\n",
    "<img  src=\"https://docs.docker.com/engine/userguide/storagedriver/images/container-layers.jpg\"/>\n"
   ]
  },
  {
   "cell_type": "markdown",
   "metadata": {},
   "source": [
    "## Exercise on building RainbowStream\n",
    "\n",
    "In this exercise we will be running application on the docker. The reason we want to use docker to running app is:\n",
    "\n",
    "* Installing things on host machine sometimes will cause the files getting everywhere. And you may want to have the ability to delete an app and know it is gone fully without some random file hanging around. \n",
    "\n",
    "In this exercise, we will be using Dockerfile to build an image of RainbowStream. Dockerfile is a text document that contains all the commands a user could call on the command line to assemble an image. RainbowStream is a Twitter client on terminal with smart, nicely displayed, colorful stream and fancy commands in interactive mode. \n",
    "\n",
    "<img  src=\"https://blog.jessfraz.com/img/rainbowstream.png\"/>\n",
    "\n",
    "First of all, we will be creating a Dockerfile"
   ]
  },
  {
   "cell_type": "code",
   "execution_count": null,
   "metadata": {
    "collapsed": false
   },
   "outputs": [],
   "source": [
    "!mkdir practice\n",
    "!cd practice\n",
    "!touch Dockerfile"
   ]
  },
  {
   "cell_type": "markdown",
   "metadata": {},
   "source": [
    "** NOTE: edit the following lines in the Dockerfile using sudo in the terminal displayed below. **\n",
    "\n",
    "Each instruction creates a new layer of the image.\n",
    "\n",
    "\n",
    "<div class=\"alert alert-warning\" role=\"alert\" style=\"margin: 1px\">\n",
    "<p>FROM python:2-alpine<br>\n",
    "MAINTAINER Jessie Frazelle <jess@linux.com> <br>\n",
    "\n",
    "RUN apk --no-cache add \\<br>\n",
    "\tbuild-base \\<br>\n",
    "\tca-certificates \\<br>\n",
    "\tfreetype \\<br>\n",
    "\tfreetype-dev \\<br>\n",
    "\topenjpeg-dev \\<br>\n",
    "\tzlib-dev\n",
    "\n",
    "RUN USER=root pip install \\<br>\n",
    "\tpillow==2.8.0 \\<br>\n",
    "\trainbowstream<br>\n",
    "\n",
    "ENTRYPOINT [ \"rainbowstream\" ]\n",
    "</p>\n",
    "</div>\n",
    "\n"
   ]
  },
  {
   "cell_type": "code",
   "execution_count": null,
   "metadata": {
    "collapsed": false
   },
   "outputs": [],
   "source": [
    "from IPython.display import IFrame\n",
    "IFrame (\"http://129.114.110.233:8888/terminals/1\", width = 800, height=500)"
   ]
  },
  {
   "cell_type": "code",
   "execution_count": null,
   "metadata": {
    "collapsed": false
   },
   "outputs": [],
   "source": [
    "The docker build command will build an image\n",
    "\n",
    "!docker build -t user/practice ."
   ]
  },
  {
   "cell_type": "markdown",
   "metadata": {},
   "source": [
    " **NOTE: Run the following command in the terminal displayed below. **\n",
    "\n",
    " You will be directed into https://api.twitter.com/oauth/ webpage, authorize the RainbowStream to use you twitter \n",
    " account, enter the pin number in the command line.\n",
    " \n",
    " And you should be ready to go!\n",
    "\n",
    "\n",
    "<div class=\"alert alert-warning\" role=\"alert\" style=\"margin: 1px\">\n",
    "<p>docker run -t -i user/exercise \n",
    "</p>\n",
    "</div>"
   ]
  },
  {
   "cell_type": "code",
   "execution_count": null,
   "metadata": {
    "collapsed": false
   },
   "outputs": [],
   "source": [
    "# In the end, you may want to stop the container if you are not planing to use.\n",
    "!docker ps -a"
   ]
  },
  {
   "cell_type": "code",
   "execution_count": null,
   "metadata": {
    "collapsed": false
   },
   "outputs": [],
   "source": [
    "!docker stop \n",
    "!docker rm "
   ]
  },
  {
   "cell_type": "markdown",
   "metadata": {},
   "source": [
    "The command line should look like this\n",
    "<div class=\"alert alert-warning\" role=\"alert\" style=\"margin: 1px\">\n",
    "<p>docker stop nostalgic_morse<br>\n",
    "docker rm nostalgic_morse\n",
    "</p>\n",
    "</div>"
   ]
  }
 ],
 "metadata": {
  "kernelspec": {
   "display_name": "Python 2",
   "language": "python",
   "name": "python2"
  },
  "language_info": {
   "codemirror_mode": {
    "name": "ipython",
    "version": 2
   },
   "file_extension": ".py",
   "mimetype": "text/x-python",
   "name": "python",
   "nbconvert_exporter": "python",
   "pygments_lexer": "ipython2",
   "version": "2.7.6"
  }
 },
 "nbformat": 4,
 "nbformat_minor": 1
}
