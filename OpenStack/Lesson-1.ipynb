{
 "cells": [
  {
   "cell_type": "markdown",
   "metadata": {},
   "source": [
    "<hr style=\"height:3px;border:none;color:#333;background-color:#333;\" />\n",
    "<img style=\" float:right; display:inline\" src=\"http://opencloud.utsa.edu/wp-content/themes/utsa-oci/images/logo.png\"/>\n",
    "\n",
    "### **University of Texas at San Antonio** \n",
    "<br/>\n",
    "<br/>\n",
    "<span style=\"color:#000; font-family: 'Bebas Neue'; font-size: 2.5em;\"> **Open Cloud Institute** </span>\n",
    "\n",
    "<hr style=\"height:3px;border:none;color:#333;background-color:#333;\" />"
   ]
  },
  {
   "cell_type": "markdown",
   "metadata": {},
   "source": [
    "### OpenStack Cloud Networking\n",
    "\n",
    "<br/>\n",
    "<span style=\"color:#000; font-family: 'Bebas Neue'; font-size: 1.5em;\"> **Paul Rad, Ph.D.** </span>  \n",
    "\n",
    "\n",
    "<span style=\"color:#000; font-family: 'Bebas Neue'; font-size: 1.5em;\"> **Gonzalo De La Torre, Ph.D. Student** </span>\n",
    "\n",
    "<span style=\"color:#000; font-family: 'Bebas Neue'; font-size: 1.4em;\"> *Open Cloud Institute, University of Texas at San Antonio, San Antonio, Texas, USA* </span>  \n",
    "<span style=\"color:#000; font-family: 'Bebas Neue'; font-size: 1.4em;\"> {gonzalo.delatorreparra, paul.rad}@utsa.edu </span>  \n",
    "\n",
    "<hr style=\"height:3px;border:none;color:#333;background-color:#333;\" />"
   ]
  },
  {
   "cell_type": "markdown",
   "metadata": {},
   "source": [
    "## Cloud Networking\n",
    "\n",
    "### Introduction to cloud computing\n",
    "\n",
    "Cloud Computing is a model for enabling ubiquitous, convenient, on-demand network access to a shared pool of configurable computing resources (e.g., networks, servers, storage, applications and services) that can be rapidly provisioned and released with minimal management effort or service provider interaction.\n",
    "\n",
    "### Types of cloud\n",
    "\n",
    "1. **Public Cloud** - a public cloud is one in which the infrastructure is open to the general public for consumption. OpenStack public clouds are typically run by a service provider and can be consumed by individuals, corporations, or any paying customer.\n",
    "2. **Private Cloud** - a private cloud is provisioned for exclusive use by a single organization comprising multiple consumers, such as business units. It may be owned, managed, and operated by the organization, a third-party, or some combination of them, and it may exist on or off premises. Private cloud use cases are diverse, as such, their individual security concerns vary.\n",
    "3. **Community cloud** -The cloud whose infrastructure is provisioned for the exclusive use by a specific community of consumers from organizations that have shared concerns. For example, mission, security requirements, policy, and compliance considerations. It may be owned, managed, and operated by one or more of the organizations in the community, a third-party, or some combination of them, and it may exist on or off premises\n",
    "4. **Hybrid cloud** - It is defined as a composition of two or more distinct cloud infrastructures, such as private, community, or public, that remain unique entities, but are bound together by standardized or proprietary technology that enables data and application portability, such as cloud bursting for load balancing between clouds. For example an online retailer may have their advertising and catalogue presented on a public cloud that allows for elastic provisioning. This would enable them to handle seasonal loads in a flexible, cost-effective fashion. Once a customer begins to process their order, they are transferred to the more secure private cloud back end that is PCI compliant.\n",
    "\n",
    "### Introduction to openstack\n",
    "\n",
    "OpenStack is a free and open-source software platform for cloud computing, mostly deployed as an infrastructure-as-a-service (IaaS). The software platform consists of interrelated components that control diverse, multi-vendor hardware pools of processing, storage, and networking resources throughout a data center. Users either manage it through a web-based dashboard, through command-line tools, or through a RESTful API. OpenStack.org released it under the terms of the Apache License.\n",
    "\n",
    "![OS](https://github.com/cloudandbigdatalab/eLab-GUI-web-portal/blob/development/WebContent/resources/marketPlaceData/CloudNetworking/images/Os1.png?raw=True)\n",
    "\n",
    "\n",
    "The above diagram is a structured implementation of all core services. Let’s explore them one by one.\n",
    "1. **Horizon** - Horizon is the canonical implementation of OpenStack’s Dashboard, which provides a web based user interface to OpenStack services including Nova, Swift, Keystone, etc. In other words it provides administrators and users with a graphical interface to access, provision, and automation of cloud-based resources. The design accommodates third party products and services, such as billing, monitoring, and additional management tools. The dashboard is also brand-able for service providers and other commercial vendors who want to make use of it. The dashboard is one of several ways users can interact with OpenStack resources. Developers can automate access or build tools to manage resources using the native OpenStack API or the EC2 compatibility API.\n",
    "\n",
    "2. **Nova** - OpenStack Nova is a component within the OpenStack open source cloud computing platform developed to provide on-demand access to compute resources by provisioning and managing large networks of virtual machines(VMs).\n",
    "Also known as OpenStack Compute, Nova offers \"massively\" scalable, on-demand, self-service access to compute resources such as virtual machines, containers and bare metal servers. Nova works with KVM, VMware, Xen and Hyper-V hypervisor.\n",
    "\n",
    "3. **Cinder** - OpenStack Block Storage (Cinder) provides persistent block-level storage devices for use with OpenStack compute instances. The block storage system manages the creation, attaching and detaching of the block devices to servers. Block storage volumes are fully integrated into OpenStack Compute and the Dashboard allowing for cloud users to manage their own storage needs. In addition to local Linux server storage. lock storage is appropriate for performance sensitive scenarios such as database storage, expandable file systems, or providing a server with access to raw block level storage. Snapshot management provides powerful functionality for backing up data stored on block storage volumes. Snapshots can be restored or used to create a new block storage volume.\n",
    "\n",
    "4. **Neutron** - Neutron is an OpenStack project to provide \"networking as a service\" between interface devices (e.g., vNICs) managed by other Openstack services (e.g., nova).Also provides a user to create a reach and robust topologies. Neutron also support many XaaS services LBaaS(Load Balancing as a Service), FWaaS(Firewall as a Service), VPNaaS(Virtual Private Network as a Service).\n",
    "\n",
    "5. **Glance** - OpenStack Image (Glance) provides discovery, registration, and delivery services for disk and server images. Stored images can be used as a template. It can also be used to store and catalog an unlimited number of backups. The Image Service can store disk and server images in a variety of back-ends, including Swift. The Image Service API provides a standard REST interface for querying information about disk images and lets clients stream the images to new servers.\n",
    "\n",
    "6. **Swift** - OpenStack Object Storage (Swift) is a scalable redundant storage system. Objects and files are written to multiple disk drives spread throughout servers in the data center, with the OpenStack software responsible for ensuring data replication and integrity across the cluster. Storage clusters scale horizontally simply by adding new servers. Should a server or hard drive fail, OpenStack replicates its content from other active nodes to new locations in the cluster. Because OpenStack uses software logic to ensure data replication and distribution across different devices, inexpensive commodity hard drives and servers can be used.\n",
    "\n",
    "7. **Keystone** - OpenStack Identity (Keystone) provides a central directory of users mapped to the OpenStack services they can access. It acts as a common authentication system across the cloud operating system and can integrate with existing backend directory services like LDAP. It supports multiple forms of authentication including standard username and password credentials, token-based systems and AWS-style (i.e. Amazon Web Services) logins. Additionally, the catalog provides a queryable list of all of the services deployed in an OpenStack cloud in a single registry. Users and third-party tools can programmatically determine which resources they can access.\n"
   ]
  },
  {
   "cell_type": "code",
   "execution_count": 1,
   "metadata": {
    "collapsed": false
   },
   "outputs": [
    {
     "name": "stdout",
     "output_type": "stream",
     "text": [
      "WARNING: setting legacy OS_TENANT_NAME to support cli tools.\n",
      "+-------------+----------------+------------------------------------------------------------------------------+\n",
      "| Name        | Type           | Endpoints                                                                    |\n",
      "+-------------+----------------+------------------------------------------------------------------------------+\n",
      "| nova        | compute        | RegionOne                                                                    |\n",
      "|             |                |   publicURL: http://10.40.1.230:8774/v2.1/b0e55daa085842e9907175a18ff5e109   |\n",
      "|             |                |   internalURL: http://10.40.1.230:8774/v2.1/b0e55daa085842e9907175a18ff5e109 |\n",
      "|             |                |   adminURL: http://10.40.1.230:8774/v2.1/b0e55daa085842e9907175a18ff5e109    |\n",
      "|             |                |                                                                              |\n",
      "| neutron     | network        | RegionOne                                                                    |\n",
      "|             |                |   publicURL: http://10.40.1.230:9696/                                        |\n",
      "|             |                |   internalURL: http://10.40.1.230:9696/                                      |\n",
      "|             |                |   adminURL: http://10.40.1.230:9696/                                         |\n",
      "|             |                |                                                                              |\n",
      "| cinderv2    | volumev2       | RegionOne                                                                    |\n",
      "|             |                |   publicURL: http://10.40.1.230:8776/v2/b0e55daa085842e9907175a18ff5e109     |\n",
      "|             |                |   internalURL: http://10.40.1.230:8776/v2/b0e55daa085842e9907175a18ff5e109   |\n",
      "|             |                |   adminURL: http://10.40.1.230:8776/v2/b0e55daa085842e9907175a18ff5e109      |\n",
      "|             |                |                                                                              |\n",
      "| glance      | image          | RegionOne                                                                    |\n",
      "|             |                |   publicURL: http://10.40.1.230:9292                                         |\n",
      "|             |                |   internalURL: http://10.40.1.230:9292                                       |\n",
      "|             |                |   adminURL: http://10.40.1.230:9292                                          |\n",
      "|             |                |                                                                              |\n",
      "| nova_legacy | compute_legacy | RegionOne                                                                    |\n",
      "|             |                |   publicURL: http://10.40.1.230:8774/v2/b0e55daa085842e9907175a18ff5e109     |\n",
      "|             |                |   internalURL: http://10.40.1.230:8774/v2/b0e55daa085842e9907175a18ff5e109   |\n",
      "|             |                |   adminURL: http://10.40.1.230:8774/v2/b0e55daa085842e9907175a18ff5e109      |\n",
      "|             |                |                                                                              |\n",
      "| cinder      | volume         | RegionOne                                                                    |\n",
      "|             |                |   publicURL: http://10.40.1.230:8776/v1/b0e55daa085842e9907175a18ff5e109     |\n",
      "|             |                |   internalURL: http://10.40.1.230:8776/v1/b0e55daa085842e9907175a18ff5e109   |\n",
      "|             |                |   adminURL: http://10.40.1.230:8776/v1/b0e55daa085842e9907175a18ff5e109      |\n",
      "|             |                |                                                                              |\n",
      "| keystone    | identity       | RegionOne                                                                    |\n",
      "|             |                |   publicURL: http://10.40.1.230:5000/v2.0                                    |\n",
      "|             |                |   internalURL: http://10.40.1.230:5000/v2.0                                  |\n",
      "|             |                |   adminURL: http://10.40.1.230:35357/v2.0                                    |\n",
      "|             |                |                                                                              |\n",
      "+-------------+----------------+------------------------------------------------------------------------------+\n"
     ]
    }
   ],
   "source": [
    "%%bash\n",
    ". /home/stack/devstack/openrc\n",
    "openstack catalog list"
   ]
  },
  {
   "cell_type": "code",
   "execution_count": 7,
   "metadata": {
    "collapsed": false
   },
   "outputs": [
    {
     "name": "stdout",
     "output_type": "stream",
     "text": [
      "WARNING: setting legacy OS_TENANT_NAME to support cli tools.\n",
      "+----------------------------------+-----------+--------------------------------------------+--------------------------------------------+--------------------------------------------+----------------------------------+\n",
      "|                id                |   region  |                 publicurl                  |                internalurl                 |                  adminurl                  |            service_id            |\n",
      "+----------------------------------+-----------+--------------------------------------------+--------------------------------------------+--------------------------------------------+----------------------------------+\n",
      "| 3eb5a88b247e4220a7f4e65f88225436 | RegionOne |  http://10.40.1.230:8774/v2/$(tenant_id)s  |  http://10.40.1.230:8774/v2/$(tenant_id)s  |  http://10.40.1.230:8774/v2/$(tenant_id)s  | 27e8b30bb29a432fa2c1998fc32b317e |\n",
      "| 904d51f97d0c465d8684cf90b2dcd903 | RegionOne |  http://10.40.1.230:8776/v2/$(tenant_id)s  |  http://10.40.1.230:8776/v2/$(tenant_id)s  |  http://10.40.1.230:8776/v2/$(tenant_id)s  | 044962a9163e4cac8ebdf88426b943d4 |\n",
      "| a53c7cd3de2d4e49a84c7dd7d63d420a | RegionOne | http://10.40.1.230:8774/v2.1/$(tenant_id)s | http://10.40.1.230:8774/v2.1/$(tenant_id)s | http://10.40.1.230:8774/v2.1/$(tenant_id)s | 01fcb500996b4e7ba664fd8989d46b8d |\n",
      "| b3b6013e0c094d6d9d61f2af8e136f38 | RegionOne |        http://10.40.1.230:5000/v2.0        |        http://10.40.1.230:5000/v2.0        |       http://10.40.1.230:35357/v2.0        | 5e294a332b964182b58446c53839931e |\n",
      "| b3f0e4a756674e2c82c4746140f905b6 | RegionOne |          http://10.40.1.230:9292           |          http://10.40.1.230:9292           |          http://10.40.1.230:9292           | 6a1759988f654b99902d05d08dc08826 |\n",
      "| f05f997b0c8742778e282ca5a4682efe | RegionOne |          http://10.40.1.230:9696/          |          http://10.40.1.230:9696/          |          http://10.40.1.230:9696/          | 5c327891c80940538b52ddea0e17315d |\n",
      "| fc16c833c8f34f9fbba872fe700d181a | RegionOne |  http://10.40.1.230:8776/v1/$(tenant_id)s  |  http://10.40.1.230:8776/v1/$(tenant_id)s  |  http://10.40.1.230:8776/v1/$(tenant_id)s  | 307a003f63c646b398eeb156705017c5 |\n",
      "+----------------------------------+-----------+--------------------------------------------+--------------------------------------------+--------------------------------------------+----------------------------------+\n"
     ]
    },
    {
     "name": "stderr",
     "output_type": "stream",
     "text": [
      "/usr/local/lib/python2.7/dist-packages/keystoneclient/shell.py:64: DeprecationWarning: The keystone CLI is deprecated in favor of python-openstackclient. For a Python library, continue using python-keystoneclient.\n",
      "  'python-keystoneclient.', DeprecationWarning)\n",
      "/usr/local/lib/python2.7/dist-packages/keystoneclient/v2_0/client.py:145: DeprecationWarning: Constructing an instance of the keystoneclient.v2_0.client.Client class without a session is deprecated as of the 1.7.0 release and may be removed in the 2.0.0 release.\n",
      "  'the 2.0.0 release.', DeprecationWarning)\n",
      "/usr/local/lib/python2.7/dist-packages/keystoneclient/v2_0/client.py:147: DeprecationWarning: Using the 'tenant_name' argument is deprecated in version '1.7.0' and will be removed in version '2.0.0', please use the 'project_name' argument instead\n",
      "  super(Client, self).__init__(**kwargs)\n",
      "/usr/local/lib/python2.7/dist-packages/debtcollector/renames.py:45: DeprecationWarning: Using the 'tenant_id' argument is deprecated in version '1.7.0' and will be removed in version '2.0.0', please use the 'project_id' argument instead\n",
      "  return f(*args, **kwargs)\n",
      "/usr/local/lib/python2.7/dist-packages/keystoneclient/httpclient.py:371: DeprecationWarning: Constructing an HTTPClient instance without using a session is deprecated as of the 1.7.0 release and may be removed in the 2.0.0 release.\n",
      "  'the 2.0.0 release.', DeprecationWarning)\n",
      "/usr/local/lib/python2.7/dist-packages/keystoneclient/session.py:140: DeprecationWarning: keystoneclient.session.Session is deprecated as of the 2.1.0 release in favor of keystoneauth1.session.Session. It will be removed in future releases.\n",
      "  DeprecationWarning)\n",
      "/usr/local/lib/python2.7/dist-packages/keystoneclient/auth/identity/base.py:56: DeprecationWarning: keystoneclient auth plugins are deprecated as of the 2.1.0 release in favor of keystoneauth1 plugins. They will be removed in future releases.\n",
      "  'in future releases.', DeprecationWarning)\n"
     ]
    }
   ],
   "source": [
    "%%bash\n",
    ". /home/stack/devstack/openrc admin admin\n",
    "keystone endpoint-list"
   ]
  },
  {
   "cell_type": "code",
   "execution_count": 3,
   "metadata": {
    "collapsed": false
   },
   "outputs": [
    {
     "name": "stdout",
     "output_type": "stream",
     "text": [
      "WARNING: setting legacy OS_TENANT_NAME to support cli tools.\n",
      "+--------------------------------------+---------------------------------+\n",
      "| ID                                   | Name                            |\n",
      "+--------------------------------------+---------------------------------+\n",
      "| fd23cd9f-1c72-4309-95b3-d969a4768333 | cirros-0.3.4-x86_64-uec         |\n",
      "| 01a518fe-1c9f-4dae-bd73-105a539e6626 | cirros-0.3.4-x86_64-uec-kernel  |\n",
      "| a3d68e9e-5336-468a-808e-aa411bffacb4 | cirros-0.3.4-x86_64-uec-ramdisk |\n",
      "+--------------------------------------+---------------------------------+\n"
     ]
    }
   ],
   "source": [
    "%%bash\n",
    ". /home/stack/devstack/openrc\n",
    "glance image-list"
   ]
  },
  {
   "cell_type": "code",
   "execution_count": 4,
   "metadata": {
    "collapsed": false
   },
   "outputs": [
    {
     "name": "stdout",
     "output_type": "stream",
     "text": [
      "WARNING: setting legacy OS_TENANT_NAME to support cli tools.\n",
      "+----+------+--------+------------+-------------+----------+\n",
      "| ID | Name | Status | Task State | Power State | Networks |\n",
      "+----+------+--------+------------+-------------+----------+\n",
      "+----+------+--------+------------+-------------+----------+\n"
     ]
    }
   ],
   "source": [
    "%%bash\n",
    ". /home/stack/devstack/openrc\n",
    "nova list"
   ]
  },
  {
   "cell_type": "code",
   "execution_count": 5,
   "metadata": {
    "collapsed": false
   },
   "outputs": [
    {
     "name": "stdout",
     "output_type": "stream",
     "text": [
      "WARNING: setting legacy OS_TENANT_NAME to support cli tools.\n",
      "+--------------------------------------+---------+----------------------------------------------------------+\n",
      "| id                                   | name    | subnets                                                  |\n",
      "+--------------------------------------+---------+----------------------------------------------------------+\n",
      "| c28dd3c2-d5f3-4d72-8d36-e8aac25b185c | private | 55bb7d26-654d-4ec4-a259-37a3a79db8f7 fd11:2bc4:625b::/64 |\n",
      "|                                      |         | d8e42c8c-b55b-4afb-a695-6c2de8aed647 192.168.1.0/24      |\n",
      "| 3e107a98-4b4a-4fd8-8bb3-d3ef1b4bf7a4 | public  | 514aacc6-23d0-482d-ab95-0c112e62ad6f                     |\n",
      "|                                      |         | 26175483-4bbb-4fc2-9408-d90f878da86b                     |\n",
      "+--------------------------------------+---------+----------------------------------------------------------+\n"
     ]
    }
   ],
   "source": [
    "%%bash\n",
    ". /home/stack/devstack/openrc\n",
    "neutron net-list"
   ]
  }
 ],
 "metadata": {
  "kernelspec": {
   "display_name": "Python 2",
   "language": "python",
   "name": "python2"
  },
  "language_info": {
   "codemirror_mode": {
    "name": "ipython",
    "version": 2
   },
   "file_extension": ".py",
   "mimetype": "text/x-python",
   "name": "python",
   "nbconvert_exporter": "python",
   "pygments_lexer": "ipython2",
   "version": "2.7.6"
  }
 },
 "nbformat": 4,
 "nbformat_minor": 1
}
