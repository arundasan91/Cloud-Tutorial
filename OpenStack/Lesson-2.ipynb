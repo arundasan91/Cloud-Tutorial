{
 "cells": [
  {
   "cell_type": "markdown",
   "metadata": {},
   "source": [
    "<hr style=\"height:3px;border:none;color:#333;background-color:#333;\" />\n",
    "<img style=\" float:right; display:inline\" src=\"http://opencloud.utsa.edu/wp-content/themes/utsa-oci/images/logo.png\"/>\n",
    "\n",
    "### **University of Texas at San Antonio** \n",
    "<br/>\n",
    "<br/>\n",
    "<span style=\"color:#000; font-family: 'Bebas Neue'; font-size: 2.5em;\"> **Open Cloud Institute** </span>\n",
    "\n",
    "<hr style=\"height:3px;border:none;color:#333;background-color:#333;\" />"
   ]
  },
  {
   "cell_type": "markdown",
   "metadata": {},
   "source": [
    "### OpenStack Cloud Networking\n",
    "\n",
    "<br/>\n",
    "<span style=\"color:#000; font-family: 'Bebas Neue'; font-size: 1.5em;\"> **Paul Rad, Ph.D.** </span>  \n",
    "\n",
    "\n",
    "<span style=\"color:#000; font-family: 'Bebas Neue'; font-size: 1.5em;\"> **Gonzalo De La Torre, Ph.D. Student** </span>\n",
    "\n",
    "<span style=\"color:#000; font-family: 'Bebas Neue'; font-size: 1.4em;\"> *Open Cloud Institute, University of Texas at San Antonio, San Antonio, Texas, USA* </span>  \n",
    "<span style=\"color:#000; font-family: 'Bebas Neue'; font-size: 1.4em;\"> {gonzalo.delatorreparra, paul.rad}@utsa.edu </span>  \n",
    "\n",
    "<hr style=\"height:3px;border:none;color:#333;background-color:#333;\" />"
   ]
  },
  {
   "cell_type": "markdown",
   "metadata": {},
   "source": [
    "## NEUTRON - OpenStack Networking Services\n",
    "\n",
    "### Introduction\n",
    "\n",
    "#### Definition\n",
    "\n",
    "Neutron is an OpenStack project to provide \"networking as a service\" between interface devices (e.g., vNICs) managed by other Openstack services (e.g., nova).\n",
    "\n",
    "#### Why Neutron\n",
    "\n",
    " It is increasingly becoming difficult for data centers to provide network to a platform whose network requirements keep     changing from time to time. Old traditional ways for delivering network topologies and infrastructure is no longer the norm\n",
    " of the day. Clients want instantaneous network provision on demand. To cope up with this, Openstack has launched the neutron\n",
    " service. From openstack’s perspective, main goals of neutron are: \n",
    "\n",
    "- Providing connectivity to virtual machines with each other and external network.\n",
    "- Maintaining the isolation in communication of VMs belonging to different tenants. Keep   each tenant isolated.\n",
    "- Help tenants create their own Networks, routers, complex networking topologies etc. Idea of networking virtualization.\n",
    "- *aas as a service. Ex: Load Balancer as a service, Firewall as a service.\n",
    "\n",
    "\n",
    "#### Core Concepts of Neutron\n",
    "\n",
    " Neutron utilizes three main resources:\n",
    "\n",
    " - Ports: A connection point for attaching a single device NIC to neutron network.\n",
    " - Network: An isolated L2 segment analogous to VLAN. Also called as a broadcast domain.\n",
    " - Subnets: A range of V4 or V6 IP addresses associated with a configuration state.\n",
    " ![Image](https://github.com/cloudandbigdatalab/OpenStack-Projects/blob/master/neutron/images/coreconcepts.png?raw=True)\n",
    "\n",
    "### Architecture\n",
    "\n",
    "There are many aspects of neutrons architecture that we need to discuss. First we will start discussing the various components of the neutron architecture. Then we shall dig deep into each component. \n",
    "\n",
    "  ![Image2](https://github.com/cloudandbigdatalab/OpenStack-Projects/blob/master/neutron/images/blockdiagram.png?raw=True)\n",
    "\n",
    "#### The Block diagram\n",
    " \n",
    "\n",
    "The above block shows the core components of neutron. Neutron Server component receives all the API calls and translates them to respective plugins for implementing the desired functionality. For traction, management and analytics, each service rendered by neutron is persisted in the neutron database. This database is a typical Maria DB installation and can be installed in the same controller node as the neutron server or can be installed on a separate node. Plugins give the neutron the capability to provide varied network services. Being pluggable with various plugins has given neutron the required potential to deliver any complicated network topologies that a tenant requires and also provides the necessary capabilities to modify these networks with least downtime. It is not always necessary that all the restful API requests received by neutron server are handled by plugins. \n",
    "\n",
    "The original OpenStack Compute network implementation assumed a very basic model of performing all isolation through Linux VLANs and IP tables. OpenStack Networking introduces the concept of a plug-in, which is a pluggable back-end implementation of the OpenStack Networking API. A plug-in can use a variety of technologies to implement the logical API requests. Some OpenStack Networking plug-ins might use basic Linux VLANs and IP tables, while others might use more advanced technologies, such as L2-in-L3 tunneling or OpenFlow, to provide similar benefits.\n",
    "\n",
    "Plugin agent (quantum-*-agent): Runs on each hypervisor to perform local vswitch configuration (if your neutron configuration is based on Open VSwitch technology). Agent to be run depends on which plug-in you are using, as some plug-ins do not require an agent. DHCP agent (quantum-dhcp-agent): Provides DHCP services to tenant networks. This agent is the same across all plug-ins. L3 agent (quantum-L3-agent): Provides L3/NAT forwarding to provide external network access for VMs on tenant networks. This agent is the same across all plug-ins.\n",
    "\n",
    "Plug-ins and various internal components of neutron utilize messaging queue to communicate with each other. Most of these communications are RPC (remote procedure call) requests for fulfilling API request. \n",
    "\n",
    "\n",
    "#### Types of networks in Openstack\n",
    "\n",
    " \n",
    "![Image3](https://github.com/cloudandbigdatalab/OpenStack-Projects/blob/master/neutron/images/typesofnetworks.png?raw=True)\n",
    "\n",
    "**Provider Network**: Created by admin, mapped to pre-existing network in datacenter, used for external networks. VMs may also be directly connected to provider network. Provider network are mainly used to model or simulate all or few of the physical networking hardware.\n",
    "\n",
    "**Tenant Network**: These are the networks created by neutron for the tenants on a request sent by an authorized user of that tenant. These networks are isolated from each other. These networks act as virtual private networks belonging to individual tenants and each VM belonging to that tenant is connected to that tenant network.\n",
    "\n",
    " Such tenant networks cannot communicate to external network, or receive communication from external network unless they somehow hook-up with one of the provider networks provided by the network administrator of that data center.\n",
    "\n",
    "\n",
    "#### Communications\n",
    "\n",
    "As we all might have realized by now that all the components of neutron are necessarily installed on a single node. And also these components keep communicating with each other to get the job done. Communication between various Openstack components and services can be classified broadly into four types. \n",
    "\n",
    " ![Image4](https://github.com/cloudandbigdatalab/OpenStack-Projects/blob/master/neutron/images/2.3%20communication.png?raw=True)\n",
    "\n",
    "**Management Communication**: This kind of communication takes place between various components of Openstack services in order to work together to accomplish the requested task. Most of the components may use RPC means of communication using RabbitMQ. This sort of communication uses separate network other than the Tenant or provider network we discussed earlier.\n",
    "\n",
    "**VM Data**: This comprises of the communication of VMs within a tenant network. \n",
    "\n",
    "**API Network**: This network enables calling the API server requesting for implementation of various services.\n",
    "Internet: Acceptable external network.\n",
    "\n",
    " \n",
    "![Image4](https://github.com/cloudandbigdatalab/OpenStack-Projects/blob/master/neutron/images/Acceptable%20external%20network.png?raw=True{width=1000px height=1000px})"
   ]
  },
  {
   "cell_type": "markdown",
   "metadata": {},
   "source": [
    "### Creating your Own Network\n",
    "\n",
    "We will start our hands-on lesson by requesting OpenStack the current list of available networks:"
   ]
  },
  {
   "cell_type": "code",
   "execution_count": 1,
   "metadata": {
    "collapsed": false
   },
   "outputs": [
    {
     "name": "stdout",
     "output_type": "stream",
     "text": [
      "WARNING: setting legacy OS_TENANT_NAME to support cli tools.\n",
      "+--------------------------------------+---------+----------------------------------------------------------+\n",
      "| id                                   | name    | subnets                                                  |\n",
      "+--------------------------------------+---------+----------------------------------------------------------+\n",
      "| 3e107a98-4b4a-4fd8-8bb3-d3ef1b4bf7a4 | public  | 514aacc6-23d0-482d-ab95-0c112e62ad6f                     |\n",
      "|                                      |         | 26175483-4bbb-4fc2-9408-d90f878da86b                     |\n",
      "| c28dd3c2-d5f3-4d72-8d36-e8aac25b185c | private | 55bb7d26-654d-4ec4-a259-37a3a79db8f7 fd11:2bc4:625b::/64 |\n",
      "|                                      |         | d8e42c8c-b55b-4afb-a695-6c2de8aed647 192.168.1.0/24      |\n",
      "+--------------------------------------+---------+----------------------------------------------------------+\n"
     ]
    }
   ],
   "source": [
    "%%bash\n",
    ". /home/stack/devstack/openrc\n",
    "neutron net-list"
   ]
  },
  {
   "cell_type": "markdown",
   "metadata": {},
   "source": [
    "### Creating a Public Network\n",
    "\n",
    "The first step that we need to follow whenever we start creating our first functional network topology is the creation of our own Public Network. The public network needs to be created based on the physical network where your OpenStack environment is deployed."
   ]
  },
  {
   "cell_type": "code",
   "execution_count": 2,
   "metadata": {
    "collapsed": false
   },
   "outputs": [
    {
     "name": "stdout",
     "output_type": "stream",
     "text": [
      "WARNING: setting legacy OS_TENANT_NAME to support cli tools.\n"
     ]
    },
    {
     "name": "stderr",
     "output_type": "stream",
     "text": [
      "bash: line 2: syntax error near unexpected token `newline'\n",
      "bash: line 2: `neutron net-create --shared --provider:network_type flat --provider:physical_network flat --router:external <Name of Network>'\n"
     ]
    }
   ],
   "source": [
    "%%bash\n",
    ". /home/stack/devstack/openrc\n",
    "neutron net-create --shared --provider:network_type flat --provider:physical_network flat --router:external <Name of Network>"
   ]
  },
  {
   "cell_type": "code",
   "execution_count": 4,
   "metadata": {
    "collapsed": false
   },
   "outputs": [
    {
     "ename": "SyntaxError",
     "evalue": "invalid syntax (<ipython-input-4-a3dd19150211>, line 1)",
     "output_type": "error",
     "traceback": [
      "\u001b[0;36m  File \u001b[0;32m\"<ipython-input-4-a3dd19150211>\"\u001b[0;36m, line \u001b[0;32m1\u001b[0m\n\u001b[0;31m    $ neutron subnet-create --name <subnet name> --gateway 17.200.0.1 --allocation-pool start=17.200.50.2,end=17.200.50.255 --dns-nameserver 8.8.8.8 <Name of your public network> 17.200.0.0/16\u001b[0m\n\u001b[0m    ^\u001b[0m\n\u001b[0;31mSyntaxError\u001b[0m\u001b[0;31m:\u001b[0m invalid syntax\n"
     ]
    }
   ],
   "source": [
    "%%bash\n",
    ". /home/stack/devstack/openrc\n",
    "neutron subnet-create --name <subnet name> --gateway 17.200.0.1 --allocation-pool start=17.200.50.2,end=17.200.50.255 --dns-nameserver 8.8.8.8 <Name of your public network> 17.200.0.0/16"
   ]
  },
  {
   "cell_type": "markdown",
   "metadata": {},
   "source": [
    "### Creating a Private Network\n",
    "\n",
    "Private network creation can be performed with user or admin credentials. This depends on the permissions defined in the policy.json file in Neutron. Let us proceed to create a private network by using the command:"
   ]
  },
  {
   "cell_type": "code",
   "execution_count": null,
   "metadata": {
    "collapsed": true
   },
   "outputs": [],
   "source": [
    "%%bash\n",
    ". /home/stack/devstack/openrc\n",
    "neutron net-create my-private-network"
   ]
  },
  {
   "cell_type": "markdown",
   "metadata": {},
   "source": [
    "In the same manner as we experienced in the public network, the above command will only create a database entry.\n",
    "To specify the details of our private network, we need to create a subnet for this private network. The specifics of this private subnet do not need to be based on the physical network as this network will only be used by neutron as an internal network. To create a subnet, we can simply use the command:"
   ]
  },
  {
   "cell_type": "code",
   "execution_count": null,
   "metadata": {
    "collapsed": true
   },
   "outputs": [],
   "source": [
    "%%bash\n",
    ". /home/stack/devstack/openrc\n",
    "neutron subnet-create my-private-network --name my-private-subnet --gateway 192.168.0.1 192.168.0.0/24"
   ]
  },
  {
   "cell_type": "markdown",
   "metadata": {},
   "source": [
    "### Creating a Router\n",
    "\n",
    "Now that we have created our Public and Private networks, we need to proceed to create a router that will enable communication between both of them. To create our router we can use the command:"
   ]
  },
  {
   "cell_type": "code",
   "execution_count": null,
   "metadata": {
    "collapsed": true
   },
   "outputs": [],
   "source": [
    "%%bash\n",
    ". /home/stack/devstack/openrc\n",
    "neutron router-create my-router"
   ]
  },
  {
   "cell_type": "markdown",
   "metadata": {},
   "source": [
    "### Adding Interfaces Between Router and Subnets\n",
    "\n",
    "Note that this will only create the router but so far there is no connectivity between this and any of the previously created networks. To create the connectivity we need, we require to add interfaces from the router to our networks. We can proceed to create these interfaces by using the commands:"
   ]
  },
  {
   "cell_type": "code",
   "execution_count": null,
   "metadata": {
    "collapsed": true
   },
   "outputs": [],
   "source": [
    "%%bash\n",
    ". /home/stack/devstack/openrc\n",
    "neutron router-interface-add my-router my-public-subnet"
   ]
  },
  {
   "cell_type": "markdown",
   "metadata": {},
   "source": [
    "This will create an interface that will be attached to the public subnet."
   ]
  },
  {
   "cell_type": "code",
   "execution_count": null,
   "metadata": {
    "collapsed": true
   },
   "outputs": [],
   "source": [
    "%%bash\n",
    ". /home/stack/devstack/openrc\n",
    "neutron router-interface-add my-router my-private-subnet"
   ]
  },
  {
   "cell_type": "markdown",
   "metadata": {},
   "source": [
    "This will create an interface that will be attached to the private subnet. Next, we will look in to the Nova service to create an instance or VM."
   ]
  },
  {
   "cell_type": "markdown",
   "metadata": {},
   "source": [
    "## Nova - OpenStack Compute Service\n",
    "\n",
    "## 1. Introdunction\n",
    "\n",
    "Nova is all about access to compute resources.  \n",
    "\n",
    "Nova is used for hosting and managing cloud computing systems.  It is a component based architecture enabling quicker additions of new features.  It is scalable, on-demand, fault tolerant, recoverable and provides API-compatibility with systems like Amazon EC2.  Nova provides compute resources such as virtual machines, containers, and bare metal servers.\n",
    "\n",
    "Nova is built on a messaging architecture.  All of its components can typically be run on several servers.  This architecture allows the components to communicate through a message queue. Deferred objects are used to avoid blocking while a component waits in the message queue for a response.\n",
    "\n",
    "As the most distributed component in the OpenStack platform, Nova interacts heavily with other OpenStack services like Keystone for performing authentication, Horizon for its Web interface and Glance for supplying its images.\n",
    "\n",
    "### 2. Architecture\n",
    "\n",
    "![Architecture Diagram](https://github.com/cloudandbigdatalab/OpenStack-Projects/blob/master/nova/resources/Architecture/Nova_Architecture.png?raw=True)\n",
    "\n",
    "##### 2.1 Nova REST API\n",
    "This is the Nova component that receives HTTP requests, converts commands and communicates with other components via the oslo.messaging queue or HTTP.\n",
    "\n",
    "<ul>\n",
    "<li>list servers (GET)\n",
    "<li>Create server (POST)\n",
    "<li>List details for servers (GET)\n",
    "<li>Show server details (GET)\n",
    "<li>Update server (PUT)\n",
    "<li>Delete server (DELETE)</ul>\n",
    "\n",
    "##### 2.2 Messaging\n",
    "Advanced Message Queueing Protocol (AMQP) is a messaging protocol used by OpenStack allowing Nova components to communicate with each other. AMQP uses a broker, either RabbitMQ or Qpid, to allow these Nova components to send Remote Procedure Calls (RPC) using a publish/subscribe paradigm.\n",
    "\n",
    "The architecture is shown in the following picture:</br> \n",
    "\n",
    "![AMQP Architecture Image](https://github.com/cloudandbigdatalab/OpenStack-Projects/blob/master/nova/resources/Architecture/AMQP_Architecture_Image.png?raw=True)\n",
    "\n",
    "##### 2.3 Scheduler\n",
    "\n",
    "The Filter Scheduler uses filtering and weighting to make informed decisions on where a new instance should be created on a Compute Node.\n",
    "\n",
    "![Threading Model](https://github.com/cloudandbigdatalab/OpenStack-Projects/blob/master/nova/resources/Architecture/Threading_Model.png?raw=True)\n",
    "\n",
    "The Filter Scheduler looks over all compute nodes and evaluates them against a set of filters. The filters will eliminate some of the hosts, and the resulting hosts will be weighted, which will sort them by suitability. The Scheduler will then choose the hosts for each instance based on the weights. It is possible that the Scheduler may not find any candidate for the next instance, in which case that instance will not be booted. If the default scheduling algorithm is insufficient for a users needs, that user can create their own scheduling algorithm. There are a lot of built in functions that can be used to define the filtering algorithm.\n",
    "\n",
    "The weighing process is defined by equations which can also be set by the user. Different properties, such as RAM usage, CPU usage, Disk usage, I/O usage, etc, can be assigned different values in order to use a custom sorting to choose which host is the most suitable for the new instance(s).\n",
    "\n",
    "![Weighing](https://github.com/cloudandbigdatalab/OpenStack-Projects/blob/master/nova/resources/Architecture/Weighing.png?raw=True)\n",
    "\n",
    "\n",
    "##### 2.4 Conductor\n",
    "In addition to its roles as a database proxy and object backporter the conductor service also serves as a centralized place to manage the execution of workflows which involve the scheduler. Rebuild, resize/migrate, and building an instance are managed here. This was done in order to have a better separation of responsibilities between what compute nodes should handle and what the scheduler should handle, and to clean up the path of execution. Conductor was chosen because in order to query the scheduler in a synchronous manner it needed to happen after the API had returned a response otherwise API response times would increase. And changing the scheduler call from asynchronous to synchronous helped to clean up the code.\n",
    "\n",
    "##### 2.5 Compute\n",
    "Compute manages communication with hypervisors and virtual machines. You can create compute nodes that will receive requests from the controller node and virtual machine instances. The compute service relies on a hypervisor to run virtual machine instances. OpenStack can use a number of various hypervisors such as KVM, QEMU, Xen, or LXC.\n",
    "\n",
    "The basics: Compute will accept actions from the queue and then perform a series of system commands and carry them out while updating status in the database.\n",
    "\n",
    "While all services are designed to be horizontally scalable, you should have significantly more computes then anything else.\n",
    "\n",
    "### 3. Excercise\n",
    "\n",
    "Now let’s do some hands-on using Nova CLI.\n",
    "\n",
    "To know about sub-commands and supported options by Nova use the below command:"
   ]
  },
  {
   "cell_type": "code",
   "execution_count": null,
   "metadata": {
    "collapsed": true
   },
   "outputs": [],
   "source": [
    "%%bash\n",
    ". /home/stack/devstack/openrc\n",
    "nova help"
   ]
  },
  {
   "cell_type": "markdown",
   "metadata": {},
   "source": [
    "First for booting the instance you need to select the desired image to get started. For listing different image types use the below command: "
   ]
  },
  {
   "cell_type": "code",
   "execution_count": 6,
   "metadata": {
    "collapsed": false
   },
   "outputs": [
    {
     "name": "stdout",
     "output_type": "stream",
     "text": [
      "+--------------------------------------+--------------------------------------------------+-------------+------------------+-------------+--------+\n",
      "| ID                                   | Name                                             | Disk Format | Container Format | Size        | Status |\n",
      "+--------------------------------------+--------------------------------------------------+-------------+------------------+-------------+--------+\n",
      "| 2808a72c-df39-41d9-b03a-16d1eab8a79a | arun-tensorflow-notebook                         | qcow2       | bare             | 5308481536  | active |\n",
      "| a9228c93-f8b9-4067-820f-5f04d9ca4776 | Caffe_Complete                                   | qcow2       | bare             | 6613696512  | active |\n",
      "| be46bd5a-c4a5-4495-ad30-356186d8ff04 | CC-C7-autologin                                  | qcow2       | bare             | 342360064   | active |\n",
      "| 8426d712-9742-4eff-81cf-d886a4ba2cdd | CC-CENTOS-3656275b-824c-4e3b-bdb1-fe7a61e77eaf   | qcow2       | bare             | 696135680   | active |\n",
      "| a95eb518-8d2f-4413-8cad-6361f1fb8b9f | CC-CENTOS-6                                      | qcow2       | bare             | 1173094400  | active |\n",
      "| 4900d8df-2c47-417d-953b-d87dbfefe81b | CC-CENTOS-dibbs                                  | qcow2       | bare             | 805935616   | active |\n",
      "| 3e96c7a0-fed8-425c-86b2-11383e477f94 | CC-CentOS7                                       | qcow2       | bare             | 723879424   | active |\n",
      "| 8eaefc2e-f5c1-4dbd-8d6f-42381395ecf2 | CC-CentOS7-1602.0                                | qcow2       | bare             | 807159808   | active |\n",
      "| cfff4034-0172-4bc4-9f43-6abb559e6cf9 | CC-MatLab                                        | qcow2       | bare             | 11843141632 | active |\n",
      "| 5938cde5-04fd-453e-abcb-c755358a8012 | cc-ml6073                                        | qcow2       | bare             | 4071489536  | active |\n",
      "| 47935584-b0e9-4645-a65e-8cea216d21c3 | CC-Ubuntu-14-04-DevStack-Mitaka-Stable-8-11-2016 | qcow2       | bare             | 3620929536  | active |\n",
      "| a921b25f-ea88-46b8-be33-4632a8659163 | CC-Ubuntu-14-04-Jupyter                          | qcow2       | bare             | 4041080832  | active |\n",
      "| 82ce7457-3953-4953-bddb-6b59bd5af998 | CC-Ubuntu14.04                                   | qcow2       | bare             | 523042816   | active |\n",
      "| fe3f4bd5-3fec-413e-a9d7-cfe1d927249a | CC-Ubuntu14.04-20160810                          | qcow2       | bare             | 523829248   | active |\n",
      "| e169f5ba-a89b-4969-9c1c-87079e2876c0 | CC-Ubuntu14.04_april16                           | qcow2       | bare             | 539688960   | active |\n",
      "| 58e3df11-a1ff-4b6b-bbdf-3835dd0b20a2 | CC-Ubuntu16.04                                   | qcow2       | bare             | 826933248   | active |\n",
      "| 01a6d6d1-e692-4e86-b776-dbb387c64958 | CC-Ubuntu16.04-20160610                          | qcow2       | bare             | 703179264   | active |\n",
      "| 0686af56-9246-41be-91c1-d43d6c817f83 | CentOS-6                                         | qcow2       | bare             | 301400064   | active |\n",
      "| 5d6a73e3-7978-4acf-be06-245ffb8198d2 | CentOS-7-2015                                    | qcow2       | bare             | 345178112   | active |\n",
      "| 59fd4ba3-c9fc-4c5c-aeee-f2175b22b3c7 | CENTOS-7-HADOOP                                  | qcow2       | bare             | 1295941632  | active |\n",
      "| e09f8c11-f86e-4b6e-ad4e-a8a188f6c4be | Centos7-Docker                                   | qcow2       | bare             | 1429274624  | active |\n",
      "| a6f94bf0-878a-4730-b31f-cd367e351863 | cirros-0.3.4-x86_64                              | qcow2       | bare             | 13287936    | active |\n",
      "| 52c6b623-f030-4c5a-968e-df210e753da1 | cometcloudWorkerDocker                           | qcow2       | bare             | 2975334400  | active |\n",
      "| 33131133-ee42-4ed0-95d3-6bd7764e661c | cometcloudWorkerKepler                           | qcow2       | bare             | 1713307648  | active |\n",
      "| 0a6cd857-aece-4e4f-8e3d-f7ef027d844d | das_ubuntu14_jupyter_pyPackages                  | qcow2       | bare             | 2410020864  | active |\n",
      "| ae903537-7618-4c49-9538-e42edadca4d2 | dibbs-snapshot-image2                            | qcow2       | bare             | 2167406592  | active |\n",
      "| 1857cb09-960f-4f96-9a26-75a21af6e152 | elab-jupyter-notebook                            | qcow2       | bare             | 1760231424  | active |\n",
      "| a80ee7be-e7ef-47ec-b7f3-b8b003444784 | Fedora-20                                        | qcow2       | bare             | 211484672   | active |\n",
      "| 07e8ab88-6298-4aaf-b9d6-8fd3dcfa8fe8 | jpetstore-cody                                   | qcow2       | bare             | 2222915584  | active |\n",
      "| 0c332299-efd3-4705-84d1-6903674eec74 | Kali_kartheek_1                                  | iso         | bare             | 2945482752  | active |\n",
      "| 31982017-34ec-4b11-81d2-1a6aa5508c6b | line_counter_appliance                           | qcow2       | bare             | 2441281536  | active |\n",
      "| 4e969bc9-16ac-425a-9a83-3f9b1d3a1a63 | line_counter_image                               | qcow2       | bare             | 2967994368  | active |\n",
      "| 6faaede2-4953-45fa-b8b6-73c6be07b924 | Nimish_Jupyter_Snapshot                          | qcow2       | bare             | 1712128000  | active |\n",
      "| 97a13f08-acb6-4d4a-a8cd-7ccb7ca5fc04 | Nimish_Jupyter_Snapshot_updated                  | qcow2       | bare             | 1716256768  | active |\n",
      "| 940c196d-84db-4f8f-8a1b-90711192f28c | snapshot-kiumars-thur-21-07-at-1548              | qcow2       | bare             | 44222709760 | active |\n",
      "| 3612a5aa-5d83-4173-a566-e70569539854 | Spark                                            | qcow2       | bare             | 3460104192  | active |\n",
      "| fc507be9-41e4-4c2c-b142-5c4256f8a814 | Ubuntu-Server-14.04-LTS                          | qcow2       | bare             | 256901120   | active |\n",
      "| 64905615-e622-4246-8fbc-cdbc757228e6 | Ubuntu64                                         | vmdk        | bare             | 3868005376  | active |\n",
      "+--------------------------------------+--------------------------------------------------+-------------+------------------+-------------+--------+\n"
     ]
    }
   ],
   "source": [
    "%%bash\n",
    ". /home/stack/devstack/openrc\n",
    "glance image-list"
   ]
  },
  {
   "cell_type": "markdown",
   "metadata": {},
   "source": [
    "Next after deciding on the image to boot run the below command to start the instance: "
   ]
  },
  {
   "cell_type": "code",
   "execution_count": null,
   "metadata": {
    "collapsed": true
   },
   "outputs": [],
   "source": [
    "%%bash\n",
    ". /home/stack/devstack/openrc\n",
    "nova boot --flavor m1.tiny --image cirros-0.3.4-x86_64-uec my-instance my_instance_name"
   ]
  },
  {
   "cell_type": "markdown",
   "metadata": {},
   "source": [
    "As you can see that we have specified some of the parameters like --flavor and --image for our instance. To get list of flavors supported run the below command:"
   ]
  },
  {
   "cell_type": "code",
   "execution_count": null,
   "metadata": {
    "collapsed": true
   },
   "outputs": [],
   "source": [
    "%%bash\n",
    ". /home/stack/devstack/openrc\n",
    "nova flavor-list"
   ]
  },
  {
   "cell_type": "markdown",
   "metadata": {},
   "source": [
    "For knowing the list of instances running in the environment run the below command:"
   ]
  },
  {
   "cell_type": "code",
   "execution_count": null,
   "metadata": {
    "collapsed": true
   },
   "outputs": [],
   "source": [
    "%%bash\n",
    ". /home/stack/devstack/openrc\n",
    "nova list"
   ]
  },
  {
   "cell_type": "markdown",
   "metadata": {},
   "source": [
    "At any point of time, to know the details of the instance that you created use the below command: "
   ]
  },
  {
   "cell_type": "code",
   "execution_count": null,
   "metadata": {
    "collapsed": true
   },
   "outputs": [],
   "source": [
    "%%bash\n",
    ". /home/stack/devstack/openrc\n",
    "nova show <my_instance_id>"
   ]
  },
  {
   "cell_type": "markdown",
   "metadata": {},
   "source": [
    "To pause an instance, run the following command:"
   ]
  },
  {
   "cell_type": "code",
   "execution_count": null,
   "metadata": {
    "collapsed": true
   },
   "outputs": [],
   "source": [
    "%%bash\n",
    ". /home/stack/devstack/openrc\n",
    "nova pause <name-of-the-instance>"
   ]
  },
  {
   "cell_type": "markdown",
   "metadata": {},
   "source": [
    "This command stores the state of the VM in RAM. Also we can see that the instance has been paused in power state tab.\n",
    "A paused instance continues to run in a frozen state.To unpause an instance, run the following command:"
   ]
  },
  {
   "cell_type": "code",
   "execution_count": null,
   "metadata": {
    "collapsed": true
   },
   "outputs": [],
   "source": [
    "%%bash\n",
    ". /home/stack/devstack/openrc\n",
    "nova unpause <name-of-the-instance>"
   ]
  },
  {
   "cell_type": "markdown",
   "metadata": {},
   "source": [
    "To stop or start an instance you can use the command:"
   ]
  },
  {
   "cell_type": "code",
   "execution_count": null,
   "metadata": {
    "collapsed": true
   },
   "outputs": [],
   "source": [
    "%%bash\n",
    ". /home/stack/devstack/openrc\n",
    "nova suspend <name-of-the-instance>"
   ]
  },
  {
   "cell_type": "code",
   "execution_count": null,
   "metadata": {
    "collapsed": true
   },
   "outputs": [],
   "source": [
    "%%bash\n",
    ". /home/stack/devstack/openrc\n",
    "nova resume <name-of-the-instance>"
   ]
  },
  {
   "cell_type": "markdown",
   "metadata": {},
   "source": [
    "To see the list of all the nova services, you can use the command:"
   ]
  },
  {
   "cell_type": "code",
   "execution_count": null,
   "metadata": {
    "collapsed": true
   },
   "outputs": [],
   "source": [
    "%%bash\n",
    ". /home/stack/devstack/openrc\n",
    "nova service-list"
   ]
  },
  {
   "cell_type": "markdown",
   "metadata": {},
   "source": [
    "Now we can login in to the created VM:"
   ]
  },
  {
   "cell_type": "code",
   "execution_count": null,
   "metadata": {
    "collapsed": true
   },
   "outputs": [],
   "source": [
    "ip netns exec qdhcp-<network UUID> ssh cirros@<ip address>"
   ]
  },
  {
   "cell_type": "markdown",
   "metadata": {},
   "source": [
    "The netork UUID information can be found by executing the command **ip netns list** and ip address of the host can be found from **nova list** command. Note, in CirrOS the password for user cirros is \"cubswin:)\" without the quotes.\n",
    "\n",
    "Network namespaces will only be seen on nodes running the Neutron DHCP,\n",
    "L3, and LBaaS agents. These services are typically configured only on controllers\n",
    "or dedicated network nodes."
   ]
  },
  {
   "cell_type": "markdown",
   "metadata": {},
   "source": [
    "If at any point something goes wrong or you don’t want the created instance any more you can always delete with:"
   ]
  },
  {
   "cell_type": "code",
   "execution_count": null,
   "metadata": {
    "collapsed": true
   },
   "outputs": [],
   "source": [
    "%%bash\n",
    ". /home/stack/devstack/openrc\n",
    "nova delete <name-of-instance>"
   ]
  }
 ],
 "metadata": {
  "kernelspec": {
   "display_name": "Python 2",
   "language": "python",
   "name": "python2"
  },
  "language_info": {
   "codemirror_mode": {
    "name": "ipython",
    "version": 2
   },
   "file_extension": ".py",
   "mimetype": "text/x-python",
   "name": "python",
   "nbconvert_exporter": "python",
   "pygments_lexer": "ipython2",
   "version": "2.7.6"
  }
 },
 "nbformat": 4,
 "nbformat_minor": 1
}
