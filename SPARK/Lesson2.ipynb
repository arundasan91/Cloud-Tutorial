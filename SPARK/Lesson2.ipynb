{
 "cells": [
  {
   "cell_type": "markdown",
   "metadata": {},
   "source": [
    "<hr style=\"height:3px;border:none;color:#333;background-color:#333;\" />\n",
    "<img style=\" float:right; display:inline\" src=\"http://opencloud.utsa.edu/wp-content/themes/utsa-oci/images/logo.png\"/>\n",
    "\n",
    "### **University of Texas at San Antonio** \n",
    "<br/>\n",
    "<br/>\n",
    "<span style=\"color:#000; font-family: 'Bebas Neue'; font-size: 2.5em;\"> **Open Cloud Institute** </span>\n",
    "\n",
    "<hr style=\"height:3px;border:none;color:#333;background-color:#333;\" />"
   ]
  },
  {
   "cell_type": "markdown",
   "metadata": {
    "collapsed": true
   },
   "source": [
    "### Lesson 2: Big Data Analysis with Spark\n",
    "\n",
    "<br/> \n",
    "\n",
    "\n",
    "<span style=\"color:#000; font-family: 'Bebas Neue'; font-size: 1.5em;\"> **Nimish Joshi, Research Fellow** </span>\n",
    "\n",
    "<span style=\"color:#000; font-family: 'Bebas Neue'; font-size: 1.4em;\"> *Open Cloud Institute, University of Texas at San Antonio, San Antonio, Texas, USA* </span>  \n",
    " \n",
    "<hr style=\"height:3px;border:none;color:#333;background-color:#333;\" />"
   ]
  },
  {
   "cell_type": "markdown",
   "metadata": {},
   "source": [
    "<span style=\"color:#000; font-family: 'Bebas Neue'; font-size: 1.5em;\"> **Spark Basics** </span>\n",
    "\n",
    "<span style=\"color:#000; font-family: 'Bebas Neue'; font-size: 1.3em;\"> Spark comes with an interactive python shell. The PySpark shell is responsible for linking the python API to the spark core and initializing the spark context.\n",
    "There are two ways we can fire Spark: 1). 'Spark-Submit' & 2). using 'pySpark'.</span>\n",
    "\n",
    "<span style=\"color:#000; font-family: 'Bebas Neue'; font-size: 1.3em;\"> To run spark aplication, we type: </span>"
   ]
  },
  {
   "cell_type": "code",
   "execution_count": 1,
   "metadata": {
    "collapsed": false
   },
   "outputs": [
    {
     "name": "stdout",
     "output_type": "stream",
     "text": [
      "Usage: spark-submit [options] <app jar | python file> [app arguments]\r\n",
      "Usage: spark-submit --kill [submission ID] --master [spark://...]\r\n",
      "Usage: spark-submit --status [submission ID] --master [spark://...]\r\n",
      "Usage: spark-submit run-example [options] example-class [example args]\r\n",
      "\r\n",
      "Options:\r\n",
      "  --master MASTER_URL         spark://host:port, mesos://host:port, yarn, or local.\r\n",
      "  --deploy-mode DEPLOY_MODE   Whether to launch the driver program locally (\"client\") or\r\n",
      "                              on one of the worker machines inside the cluster (\"cluster\")\r\n",
      "                              (Default: client).\r\n",
      "  --class CLASS_NAME          Your application's main class (for Java / Scala apps).\r\n",
      "  --name NAME                 A name of your application.\r\n",
      "  --jars JARS                 Comma-separated list of local jars to include on the driver\r\n",
      "                              and executor classpaths.\r\n",
      "  --packages                  Comma-separated list of maven coordinates of jars to include\r\n",
      "                              on the driver and executor classpaths. Will search the local\r\n",
      "                              maven repo, then maven central and any additional remote\r\n",
      "                              repositories given by --repositories. The format for the\r\n",
      "                              coordinates should be groupId:artifactId:version.\r\n",
      "  --exclude-packages          Comma-separated list of groupId:artifactId, to exclude while\r\n",
      "                              resolving the dependencies provided in --packages to avoid\r\n",
      "                              dependency conflicts.\r\n",
      "  --repositories              Comma-separated list of additional remote repositories to\r\n",
      "                              search for the maven coordinates given with --packages.\r\n",
      "  --py-files PY_FILES         Comma-separated list of .zip, .egg, or .py files to place\r\n",
      "                              on the PYTHONPATH for Python apps.\r\n",
      "  --files FILES               Comma-separated list of files to be placed in the working\r\n",
      "                              directory of each executor.\r\n",
      "\r\n",
      "  --conf PROP=VALUE           Arbitrary Spark configuration property.\r\n",
      "  --properties-file FILE      Path to a file from which to load extra properties. If not\r\n",
      "                              specified, this will look for conf/spark-defaults.conf.\r\n",
      "\r\n",
      "  --driver-memory MEM         Memory for driver (e.g. 1000M, 2G) (Default: 1024M).\r\n",
      "  --driver-java-options       Extra Java options to pass to the driver.\r\n",
      "  --driver-library-path       Extra library path entries to pass to the driver.\r\n",
      "  --driver-class-path         Extra class path entries to pass to the driver. Note that\r\n",
      "                              jars added with --jars are automatically included in the\r\n",
      "                              classpath.\r\n",
      "\r\n",
      "  --executor-memory MEM       Memory per executor (e.g. 1000M, 2G) (Default: 1G).\r\n",
      "\r\n",
      "  --proxy-user NAME           User to impersonate when submitting the application.\r\n",
      "                              This argument does not work with --principal / --keytab.\r\n",
      "\r\n",
      "  --help, -h                  Show this help message and exit.\r\n",
      "  --verbose, -v               Print additional debug output.\r\n",
      "  --version,                  Print the version of current Spark.\r\n",
      "\r\n",
      " Spark standalone with cluster deploy mode only:\r\n",
      "  --driver-cores NUM          Cores for driver (Default: 1).\r\n",
      "\r\n",
      " Spark standalone or Mesos with cluster deploy mode only:\r\n",
      "  --supervise                 If given, restarts the driver on failure.\r\n",
      "  --kill SUBMISSION_ID        If given, kills the driver specified.\r\n",
      "  --status SUBMISSION_ID      If given, requests the status of the driver specified.\r\n",
      "\r\n",
      " Spark standalone and Mesos only:\r\n",
      "  --total-executor-cores NUM  Total cores for all executors.\r\n",
      "\r\n",
      " Spark standalone and YARN only:\r\n",
      "  --executor-cores NUM        Number of cores per executor. (Default: 1 in YARN mode,\r\n",
      "                              or all available cores on the worker in standalone mode)\r\n",
      "\r\n",
      " YARN-only:\r\n",
      "  --driver-cores NUM          Number of cores used by the driver, only in cluster mode\r\n",
      "                              (Default: 1).\r\n",
      "  --queue QUEUE_NAME          The YARN queue to submit to (Default: \"default\").\r\n",
      "  --num-executors NUM         Number of executors to launch (Default: 2).\r\n",
      "                              If dynamic allocation is enabled, the initial number of\r\n",
      "                              executors will be at least NUM.\r\n",
      "  --archives ARCHIVES         Comma separated list of archives to be extracted into the\r\n",
      "                              working directory of each executor.\r\n",
      "  --principal PRINCIPAL       Principal to be used to login to KDC, while running on\r\n",
      "                              secure HDFS.\r\n",
      "  --keytab KEYTAB             The full path to the file that contains the keytab for the\r\n",
      "                              principal specified above. This keytab will be copied to\r\n",
      "                              the node running the Application Master via the Secure\r\n",
      "                              Distributed Cache, for renewing the login tickets and the\r\n",
      "                              delegation tokens periodically.\r\n",
      "      \r\n"
     ]
    }
   ],
   "source": [
    "!spark-2.0.1-bin-hadoop2.7/./bin/spark-submit"
   ]
  },
  {
   "cell_type": "markdown",
   "metadata": {},
   "source": [
    "<span style=\"color:#000; font-family: 'Bebas Neue'; font-size: 1.3em;\">This script will load Spark’s Java/Scala libraries and allow you to submit applications to a cluster. You can also use bin/pyspark to launch an interactive Python shell. </span>"
   ]
  },
  {
   "cell_type": "code",
   "execution_count": null,
   "metadata": {
    "collapsed": false
   },
   "outputs": [
    {
     "name": "stdout",
     "output_type": "stream",
     "text": [
      "Python 2.7.6 (default, Jun 22 2015, 17:58:13) \n",
      "[GCC 4.8.2] on linux2\n",
      "Type \"help\", \"copyright\", \"credits\" or \"license\" for more information.\n",
      "Using Spark's default log4j profile: org/apache/spark/log4j-defaults.properties\n",
      "Setting default log level to \"WARN\".\n",
      "To adjust logging level use sc.setLogLevel(newLevel).\n",
      "16/11/07 17:14:06 WARN NativeCodeLoader: Unable to load native-hadoop library for your platform... using builtin-java classes where applicable\n",
      "16/11/07 17:14:06 WARN Utils: Your hostname, nimish-spark2 resolves to a loopback address: 127.0.0.1; using 192.168.0.206 instead (on interface eth0)\n",
      "16/11/07 17:14:06 WARN Utils: Set SPARK_LOCAL_IP if you need to bind to another address\n",
      "Welcome to\n",
      "      ____              __\n",
      "     / __/__  ___ _____/ /__\n",
      "    _\\ \\/ _ \\/ _ `/ __/  '_/\n",
      "   /__ / .__/\\_,_/_/ /_/\\_\\   version 2.0.1\n",
      "      /_/\n",
      "\n",
      "Using Python version 2.7.6 (default, Jun 22 2015 17:58:13)\n",
      "SparkSession available as 'spark'.\n",
      ">>> "
     ]
    }
   ],
   "source": [
    "!spark-2.0.1-bin-hadoop2.7/./bin/pyspark"
   ]
  },
  {
   "cell_type": "markdown",
   "metadata": {},
   "source": [
    "<span style=\"color:#000; font-family: 'Bebas Neue'; font-size: 1.3em;\"> We will get the follwoing sample screen after firing the spark successfully </span>\n",
    "\n",
    "<div style=\"width:830; background-color:white; height:220px; overflow:scroll; overflow-x: scroll;overflow-y: hidden;\">\n",
    "\n",
    "<img style=\" float:left; display:inline\" src=\"\" width=\"160\" height=\"50\"/>\n",
    "\n",
    "<img style=\" float:left; display:inline\" src=\"http://129.114.111.241:8888/tree/spark-2.0.1-bin-hadoop2.7/spark_shell.png\" width=\"860\" height=\"580\"/>\n",
    "</div>"
   ]
  },
  {
   "cell_type": "markdown",
   "metadata": {},
   "source": [
    "<span style=\"color:#000; font-family: 'Bebas Neue'; font-size: 1.3em;\"> Finally, we need to add some Spark classes inot our program. Add the following line. </span>\n",
    " "
   ]
  },
  {
   "cell_type": "markdown",
   "metadata": {
    "collapsed": false
   },
   "source": [
    "<div class=\"alert alert-warning\" role=\"alert\" style=\"margin: 1px\">\n",
    "<p>\n",
    "\n",
    " from pyspark import SparkContext SparkConf\n",
    "\n",
    "</p>\n",
    "</div>"
   ]
  },
  {
   "cell_type": "markdown",
   "metadata": {},
   "source": [
    "<span style=\"color:#000; font-family: 'Bebas Neue'; font-size: 1.5em;\"> **Initializing Spark** </span>\n",
    "\n",
    "<span style=\"color:#000; font-family: 'Bebas Neue'; font-size: 1.3em;\">The first thing in Spark shell we need to do is to create SparkContext object, which tells spark how to access cluster. To create a SparkContext you first need to build a SparkConf object that contains information about your application.</span>"
   ]
  },
  {
   "cell_type": "markdown",
   "metadata": {
    "collapsed": true
   },
   "source": [
    "<div class=\"alert alert-warning\" role=\"alert\" style=\"margin: 1px\">\n",
    "<p>\n",
    "\n",
    "conf = SparkConf(). setAppName(appName).setMaster(master)<br>\n",
    "sc = SparkContext(conf=conf)\n",
    "</p>\n",
    "</div>"
   ]
  },
  {
   "cell_type": "markdown",
   "metadata": {},
   "source": [
    "<span style=\"color:#000; font-family: 'Bebas Neue'; font-size: 1.5em;\"> **Resilient Distributed Datasets (RDDs)** </span>\n",
    "\n",
    "<span style=\"color:#000; font-family: 'Bebas Neue'; font-size: 1.3em;\">Spark revolves around the concept of a resilient distributed dataset (RDD), which is a fault-tolerant collection of elements that can be operated on in parallel. There are two ways to create RDDs: parallelizing an existing collection in your driver program, or referencing a dataset in an external storage system, such as a shared filesystem, HDFS, HBase, or any data source offering a Hadoop InputFormat.</span>\n",
    "\n",
    "<span style=\"color:#000; font-family: 'Bebas Neue'; font-size: 1.3em;\"> Let's play with RDDs: Read a file in the interactive session. We will read \"CHANGES.txt\" file from the spark folder here. </span>"
   ]
  },
  {
   "cell_type": "markdown",
   "metadata": {
    "collapsed": true
   },
   "source": [
    "<div class=\"alert alert-warning\" role=\"alert\" style=\"margin: 1px\">\n",
    "<p>\n",
    "RDDread = sc.textFile(\"CHANGES.txt\")\n",
    "</p>\n",
    "</div>"
   ]
  },
  {
   "cell_type": "markdown",
   "metadata": {},
   "source": [
    "<span style=\"color:#000; font-family: 'Bebas Neue'; font-size: 1.3em;\"> The above line of code has read the file CHANGES.txt in a RDD named as \"RDDread\". </span>\n",
    "\n",
    "<span style=\"color:#000; font-family: 'Bebas Neue'; font-size: 1.3em;\"> To look at the contents of RDD we use collect() function: </span>"
   ]
  },
  {
   "cell_type": "code",
   "execution_count": null,
   "metadata": {
    "collapsed": false
   },
   "outputs": [],
   "source": [
    "#!RDDread.collect()\n",
    "!spark-2.0.1-bin-hadoop2.7/./bin/spark-submit /home/cc/spark-2.0.1-bin-hadoop2.7/rdd1.py /home/cc/spark-2.0.1-bin-hadoop2.7/textfile_sample.txt"
   ]
  },
  {
   "cell_type": "markdown",
   "metadata": {},
   "source": [
    "<span style=\"color:#000; font-family: 'Bebas Neue'; font-size: 1.3em;\"> You will notice, so much of texts been loaded in just a matter of few seconds. That's the power of Spark. </span>\n",
    "\n",
    "<span style=\"color:#000; font-family: 'Bebas Neue'; font-size: 1.3em;\"> To read the first line of RDD line we use the function: </span>"
   ]
  },
  {
   "cell_type": "code",
   "execution_count": null,
   "metadata": {
    "collapsed": false
   },
   "outputs": [],
   "source": [
    "#!RDDread.first()\n",
    "!spark-2.0.1-bin-hadoop2.7/./bin/spark-submit /home/cc/spark-2.0.1-bin-hadoop2.7/rdd2.py /home/cc/spark-2.0.1-bin-hadoop2.7/textfile_sample.txt"
   ]
  },
  {
   "cell_type": "markdown",
   "metadata": {},
   "source": [
    "<span style=\"color:#000; font-family: 'Bebas Neue'; font-size: 1.3em;\"> To read the first few lines of the RDD we can use Take(n) function; where n = number of lines. </span>"
   ]
  },
  {
   "cell_type": "code",
   "execution_count": null,
   "metadata": {
    "collapsed": false
   },
   "outputs": [],
   "source": [
    "#!RDDread.take(5)\n",
    "!spark-2.0.1-bin-hadoop2.7/./bin/spark-submit /home/cc/spark-2.0.1-bin-hadoop2.7/rdd3.py /home/cc/spark-2.0.1-bin-hadoop2.7/textfile_sample.txt"
   ]
  },
  {
   "cell_type": "markdown",
   "metadata": {},
   "source": [
    "<span style=\"color:#000; font-family: 'Bebas Neue'; font-size: 1.3em;\"> Finally, to count the number of lines in RDD we can use the 'count' function, which will print the integer value to the console. </span>"
   ]
  },
  {
   "cell_type": "code",
   "execution_count": null,
   "metadata": {
    "collapsed": false
   },
   "outputs": [],
   "source": [
    "#!RDDread.count()\n",
    "!spark-2.0.1-bin-hadoop2.7/./bin/spark-submit /home/cc/spark-2.0.1-bin-hadoop2.7/rdd4.py /home/cc/spark-2.0.1-bin-hadoop2.7/textfile_sample.txt"
   ]
  },
  {
   "cell_type": "markdown",
   "metadata": {},
   "source": [
    "<span style=\"color:#000; font-family: 'Bebas Neue'; font-size: 1.5em;\"> **Map Transformation** </span>\n",
    "\n",
    "<span style=\"color:#000; font-family: 'Bebas Neue'; font-size: 1.3em;\">Map transformation returns a Mapped RDD by applying function to each element of the base RDD. Let’s repeat the first step of creating a RDD from existing source, For example.</span>"
   ]
  },
  {
   "cell_type": "markdown",
   "metadata": {
    "collapsed": true
   },
   "source": [
    "<div class=\"alert alert-warning\" role=\"alert\" style=\"margin: 1px\">\n",
    "<p>\n",
    "data = ['Hello', 'I', 'AM', 'Paul', \"Rad\"] <br>\n",
    "Rddread = sc.parallelize(data)\n",
    "</p>\n",
    "</div>"
   ]
  },
  {
   "cell_type": "markdown",
   "metadata": {},
   "source": [
    "<span style=\"color:#000; font-family: 'Bebas Neue'; font-size: 1.3em;\"> Now RDDread is created from the existing source, which is a list of string in a driver program. We will now apply lambda function to each element of RDD and return the mapped RDD pair in the RDD1 </span>"
   ]
  },
  {
   "cell_type": "markdown",
   "metadata": {
    "collapsed": true
   },
   "source": [
    "<div class=\"alert alert-warning\" role=\"alert\" style=\"margin: 1px\">\n",
    "<p>\n",
    "RDD1 = RDDread.map(lambda x: (x,1))\n",
    "</p>\n",
    "</div>"
   ]
  },
  {
   "cell_type": "markdown",
   "metadata": {
    "collapsed": true
   },
   "source": [
    "<div class=\"alert alert-warning\" role=\"alert\" style=\"margin: 1px\">\n",
    "<p>\n",
    "RDD1.collect()\n",
    "</p>\n",
    "</div>"
   ]
  },
  {
   "cell_type": "markdown",
   "metadata": {},
   "source": [
    "<span style=\"color:#000; font-family: 'Bebas Neue'; font-size: 1.3em;\"> Let's check the output of this operation.</span>"
   ]
  },
  {
   "cell_type": "markdown",
   "metadata": {
    "collapsed": true
   },
   "source": [
    "<div class=\"alert alert-warning\" role=\"alert\" style=\"margin: 1px\">\n",
    "<p>\n",
    "\n",
    "from pyspark import SparkContext <br>\n",
    "\n",
    "data = ['Hello', 'I', 'AM', 'Paul', \"Rad\"] <br>\n",
    "Rddread = sc.parallelize(data)  <br>\n",
    "RDD1 = RDDread.map(lambda x: (x,1))  <br>\n",
    "RDD1.collect()  <br>\n",
    "\n",
    "# output : [('Hello', 1), ('I', 1), ('AM', 1), ('Paul', 1), ('Rad', 1)] <br>\n",
    "\n",
    "</p>\n",
    "</div>"
   ]
  },
  {
   "cell_type": "code",
   "execution_count": null,
   "metadata": {
    "collapsed": false
   },
   "outputs": [],
   "source": [
    "!spark-2.0.1-bin-hadoop2.7/./bin/spark-submit /home/cc/spark-2.0.1-bin-hadoop2.7/map_transform.py"
   ]
  }
 ],
 "metadata": {
  "anaconda-cloud": {},
  "kernelspec": {
   "display_name": "Python 2",
   "language": "python",
   "name": "python2"
  },
  "language_info": {
   "codemirror_mode": {
    "name": "ipython",
    "version": 2
   },
   "file_extension": ".py",
   "mimetype": "text/x-python",
   "name": "python",
   "nbconvert_exporter": "python",
   "pygments_lexer": "ipython2",
   "version": "2.7.6"
  }
 },
 "nbformat": 4,
 "nbformat_minor": 1
}
